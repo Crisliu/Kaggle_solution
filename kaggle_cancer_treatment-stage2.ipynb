{
 "cells": [
  {
   "cell_type": "code",
   "execution_count": 1,
   "metadata": {
    "_cell_guid": "8221364b-56b3-437c-abe4-a79dd8a3df2a",
    "_uuid": "3054298cf46baf6508bf57403097151578651961",
    "collapsed": false
   },
   "outputs": [
    {
     "name": "stdout",
     "output_type": "stream",
     "text": [
      "Gene_dict_occur.npy\n",
      "Gene_dict_occur.npz\n",
      "GV_in_text.csv\n",
      "GV_in_text.npz\n",
      "kaggle_train.csv\n",
      "properties_2016.csv\n",
      "quora_sample_submission.csv\n",
      "quora_train.csv\n",
      "sample_submission.csv\n",
      "stage1_solution_filtered.csv\n",
      "stage2_sample_submission.csv\n",
      "stage2_test_text.csv\n",
      "stage2_test_variants.csv\n",
      "submissionFile\n",
      "test.p\n",
      "test_text\n",
      "test_variants\n",
      "text_test_arrays.npy\n",
      "text_train_arrays.npy\n",
      "Thesaurus.txt\n",
      "train_2016_v2.csv\n",
      "training_text\n",
      "training_variants\n",
      "train.p\n",
      "zillow_data_dictionary.xlsx\n",
      "zillow_test_final.csv\n",
      "zillow_train_final.csv\n",
      "zillow_y_final.csv\n",
      "\n"
     ]
    }
   ],
   "source": [
    "# This Python 3 environment comes with many helpful analytics libraries installed\n",
    "# It is defined by the kaggle/python docker image: https://github.com/kaggle/docker-python\n",
    "# For example, here's several helpful packages to load in \n",
    "\n",
    "import numpy as np # linear algebra\n",
    "import pandas as pd # data processing, CSV file I/O (e.g. pd.read_csv)\n",
    "\n",
    "# Input data files are available in the \"../input/\" directory.\n",
    "# For example, running this (by clicking run or pressing Shift+Enter) will list the files in the input directory\n",
    "\n",
    "from subprocess import check_output\n",
    "print(check_output([\"ls\", \"../input\"]).decode(\"utf8\"))\n",
    "\n",
    "# Any results you write to the current directory are saved as output."
   ]
  },
  {
   "cell_type": "code",
   "execution_count": 68,
   "metadata": {
    "collapsed": false
   },
   "outputs": [],
   "source": [
    "work_env = 1\n",
    "import sklearn\n",
    "from sklearn import pipeline\n",
    "from sklearn import feature_extraction\n",
    "from sklearn import decomposition\n",
    "from sklearn import preprocessing\n",
    "from sklearn import metrics\n",
    "from sklearn import model_selection\n",
    "import xgboost as xgb\n",
    "import pickle\n",
    "import lightgbm as lgm\n",
    "def save_sparse_csr(filename,array):\n",
    "    np.savez(filename,data = array.data ,indices=array.indices,\n",
    "             indptr =array.indptr, shape=array.shape )\n",
    "def load_sparse_csr(filename):\n",
    "    loader = np.load(filename)\n",
    "    return scipy.sparse.csr_matrix((loader['data'], loader['indices'], loader['indptr']),\n",
    "                         shape = loader['shape'])"
   ]
  },
  {
   "cell_type": "code",
   "execution_count": 3,
   "metadata": {
    "_cell_guid": "cd93e4af-a1c8-4e30-9dce-15ad4a108557",
    "_uuid": "893e36f46dab9e222f35c75d3c68dd5ccf8508f7",
    "collapsed": false
   },
   "outputs": [
    {
     "name": "stdout",
     "output_type": "stream",
     "text": [
      "('Train and Test variants shape : ', (3321, 4), (5668, 3))\n",
      "('Train and Test text shape : ', (3321, 2), (5668, 2))\n"
     ]
    }
   ],
   "source": [
    "train_variants_df = pd.read_csv(\"../input/training_variants\")\n",
    "test_variants_df = pd.read_csv(\"../input/test_variants\")\n",
    "train_text_df = pd.read_csv(\"../input/training_text\", sep=\"\\|\\|\", engine='python', header=None, skiprows=1, names=[\"ID\",\"Text\"])\n",
    "test_text_df = pd.read_csv(\"../input/test_text\", sep=\"\\|\\|\", engine='python', header=None, skiprows=1, names=[\"ID\",\"Text\"])\n",
    "print(\"Train and Test variants shape : \",train_variants_df.shape, test_variants_df.shape)\n",
    "print(\"Train and Test text shape : \",train_text_df.shape, test_text_df.shape)"
   ]
  },
  {
   "cell_type": "code",
   "execution_count": 4,
   "metadata": {
    "collapsed": false
   },
   "outputs": [
    {
     "name": "stdout",
     "output_type": "stream",
     "text": [
      "('Stage 2: Test variants shape : ', (986, 3))\n",
      "('Stage 2: Test text shape : ', (986, 2))\n"
     ]
    }
   ],
   "source": [
    "#train_variants_df = pd.read_csv(\"../input/training_variants\")\n",
    "test_variants_df2 = pd.read_csv(\"../input/stage2_test_variants.csv\")\n",
    "#train_text_df = pd.read_csv(\"../input/training_text\", sep=\"\\|\\|\", engine='python', header=None, skiprows=1, names=[\"ID\",\"Text\"])\n",
    "test_text_df2 = pd.read_csv(\"../input/stage2_test_text.csv\", sep=\"\\|\\|\", engine='python', header=None, skiprows=1, names=[\"ID\",\"Text\"])\n",
    "print(\"Stage 2: Test variants shape : \", test_variants_df2.shape)\n",
    "print(\"Stage 2: Test text shape : \", test_text_df2.shape)"
   ]
  },
  {
   "cell_type": "code",
   "execution_count": 5,
   "metadata": {
    "collapsed": false
   },
   "outputs": [
    {
     "data": {
      "text/plain": [
       "(5668, 10)"
      ]
     },
     "execution_count": 5,
     "metadata": {},
     "output_type": "execute_result"
    }
   ],
   "source": [
    "a= pd.read_csv(\"../input/submissionFile\")\n",
    "a.shape"
   ]
  },
  {
   "cell_type": "code",
   "execution_count": 6,
   "metadata": {
    "collapsed": false
   },
   "outputs": [
    {
     "data": {
      "text/plain": [
       "(986, 10)"
      ]
     },
     "execution_count": 6,
     "metadata": {},
     "output_type": "execute_result"
    }
   ],
   "source": [
    "a= pd.read_csv(\"../input/stage2_sample_submission.csv\")\n",
    "a.shape"
   ]
  },
  {
   "cell_type": "code",
   "execution_count": 7,
   "metadata": {
    "collapsed": false
   },
   "outputs": [],
   "source": [
    "stage1= pd.read_csv(\"../input/stage1_solution_filtered.csv\")\n",
    "stage1 = stage1.set_index('ID')\n",
    "stage1 = stage1.idxmax(1).map(lambda x:x[-1]).astype(int)\n",
    "train_variants_df2 = pd.merge(test_variants_df,pd.DataFrame(stage1,columns=['Class']),right_index=True,left_on='ID',how='inner')\n",
    "train2 = pd.merge(train_variants_df2,test_text_df,on='ID',how='inner')"
   ]
  },
  {
   "cell_type": "code",
   "execution_count": 8,
   "metadata": {
    "collapsed": true
   },
   "outputs": [],
   "source": [
    "train = pd.merge(train_variants_df, train_text_df, how='left', on='ID').fillna('')\n",
    "train_all = pd.concat([train,train2],0)\n",
    "train_y = train_all['Class'].values\n",
    "train_x = train_all.drop('Class', axis=1)\n",
    "train_size=len(train_x)\n",
    "test_x = pd.merge(test_variants_df2, test_text_df2, how='left', on='ID').fillna('')\n",
    "test_size=len(test_x)"
   ]
  },
  {
   "cell_type": "code",
   "execution_count": 9,
   "metadata": {
    "_cell_guid": "155a4e50-65c3-4751-9a81-44bf478d1ec6",
    "_uuid": "4ded8ed08ebe25806ff970e5f558af4d0fff4f66",
    "collapsed": true
   },
   "outputs": [],
   "source": [
    "\n",
    "y = train_all['Class'].values\n",
    "train_all = train_all.drop(['Class'], axis=1)\n",
    "\n",
    "test = test_x\n",
    "pid = test['ID'].values"
   ]
  },
  {
   "cell_type": "markdown",
   "metadata": {},
   "source": [
    "Gene_Share: Binary flag if Gene show up in Text\n",
    "Variation_Share: Count how many token in Variation shown up in Text"
   ]
  },
  {
   "cell_type": "code",
   "execution_count": 10,
   "metadata": {
    "_cell_guid": "afd689a8-6584-480b-b52f-2106626a33ad",
    "_uuid": "44ec9cecab4c1878c06440b25f3d8f359653602a",
    "collapsed": true
   },
   "outputs": [],
   "source": [
    "df_all = pd.concat((train_x, test_x), axis=0, ignore_index=True)\n",
    "df_all['Gene_Share'] = df_all.apply(lambda r: sum([1 for w in r['Gene'].split(' ') if w in r['Text'].split(' ')]), axis=1)\n",
    "df_all['Variation_Share'] = df_all.apply(lambda r: sum([1 for w in r['Variation'].split(' ') if w in r['Text'].split(' ')]), axis=1)"
   ]
  },
  {
   "cell_type": "code",
   "execution_count": 11,
   "metadata": {
    "collapsed": false
   },
   "outputs": [
    {
     "data": {
      "text/plain": [
       "(4675, 6)"
      ]
     },
     "execution_count": 11,
     "metadata": {},
     "output_type": "execute_result"
    }
   ],
   "source": [
    "df_all.shape"
   ]
  },
  {
   "cell_type": "code",
   "execution_count": 12,
   "metadata": {
    "collapsed": false
   },
   "outputs": [
    {
     "data": {
      "text/plain": [
       "3921"
      ]
     },
     "execution_count": 12,
     "metadata": {},
     "output_type": "execute_result"
    }
   ],
   "source": [
    "df_all.Gene_Share.value_counts()\n",
    "df_all.Variation_Share.value_counts()\n",
    "#df_all[df_all.Variation_Share==5]\n",
    "#'TP53' in df_all.ix[480,'Text']\n",
    "df_all.Gene.nunique()\n",
    "df_all.Variation.nunique()"
   ]
  },
  {
   "cell_type": "markdown",
   "metadata": {},
   "source": [
    "Flag of ith character of Gene and Variation"
   ]
  },
  {
   "cell_type": "code",
   "execution_count": 13,
   "metadata": {
    "collapsed": true
   },
   "outputs": [],
   "source": [
    "for i in range(56):\n",
    "    df_all['Gene_'+str(i)] = df_all['Gene'].map(lambda x: str(x[i]) if len(x)>i else '')\n",
    "\n",
    "    df_all['Variation'+str(i)] = df_all['Variation'].map(lambda x: str(x[i]) if len(x)>i else '')\n",
    "#df_all.Variation55.value_counts()"
   ]
  },
  {
   "cell_type": "markdown",
   "metadata": {},
   "source": [
    "Count of each gen/variation shown in Text"
   ]
  },
  {
   "cell_type": "code",
   "execution_count": 14,
   "metadata": {
    "_cell_guid": "527915e5-720e-49d5-b6bc-0e805fc41a07",
    "_uuid": "37c49d7641c0c657001733dfb3a6d9b1f9b6c5c1",
    "collapsed": false
   },
   "outputs": [
    {
     "name": "stdout",
     "output_type": "stream",
     "text": [
      "3260\n",
      "3091\n"
     ]
    }
   ],
   "source": [
    "gen_var_lst = sorted(list(train.Gene.unique()) + list(train.Variation.unique()))\n",
    "print(len(gen_var_lst))\n",
    "gen_var_lst = [x for x in gen_var_lst if len(x.split(' '))==1]\n",
    "print(len(gen_var_lst))"
   ]
  },
  {
   "cell_type": "code",
   "execution_count": 15,
   "metadata": {
    "collapsed": true
   },
   "outputs": [
    {
     "name": "stdout",
     "output_type": "stream",
     "text": [
      "0\n"
     ]
    },
    {
     "ename": "KeyboardInterrupt",
     "evalue": "",
     "output_type": "error",
     "traceback": [
      "\u001b[1;31m---------------------------------------------------------------------------\u001b[0m",
      "\u001b[1;31mKeyboardInterrupt\u001b[0m                         Traceback (most recent call last)",
      "\u001b[1;32m<ipython-input-15-b67702930e78>\u001b[0m in \u001b[0;36m<module>\u001b[1;34m()\u001b[0m\n\u001b[0;32m      4\u001b[0m \u001b[1;32mfor\u001b[0m \u001b[0mgen_var_lst_itm\u001b[0m \u001b[1;32min\u001b[0m \u001b[0mgen_var_lst\u001b[0m\u001b[1;33m:\u001b[0m\u001b[1;33m\u001b[0m\u001b[0m\n\u001b[0;32m      5\u001b[0m     \u001b[1;32mif\u001b[0m \u001b[0mi_\u001b[0m \u001b[1;33m%\u001b[0m \u001b[1;36m100\u001b[0m \u001b[1;33m==\u001b[0m \u001b[1;36m0\u001b[0m\u001b[1;33m:\u001b[0m \u001b[1;32mprint\u001b[0m\u001b[1;33m(\u001b[0m\u001b[0mi_\u001b[0m\u001b[1;33m)\u001b[0m\u001b[1;33m\u001b[0m\u001b[0m\n\u001b[1;32m----> 6\u001b[1;33m     \u001b[0mGV_in_text\u001b[0m\u001b[1;33m[\u001b[0m\u001b[1;34m'GV_'\u001b[0m\u001b[1;33m+\u001b[0m\u001b[0mstr\u001b[0m\u001b[1;33m(\u001b[0m\u001b[0mgen_var_lst_itm\u001b[0m\u001b[1;33m)\u001b[0m\u001b[1;33m]\u001b[0m \u001b[1;33m=\u001b[0m \u001b[0mdf_all\u001b[0m\u001b[1;33m[\u001b[0m\u001b[1;34m'Text'\u001b[0m\u001b[1;33m]\u001b[0m\u001b[1;33m.\u001b[0m\u001b[0mmap\u001b[0m\u001b[1;33m(\u001b[0m\u001b[1;32mlambda\u001b[0m \u001b[0mx\u001b[0m\u001b[1;33m:\u001b[0m \u001b[0mstr\u001b[0m\u001b[1;33m(\u001b[0m\u001b[0mx\u001b[0m\u001b[1;33m)\u001b[0m\u001b[1;33m.\u001b[0m\u001b[0mcount\u001b[0m\u001b[1;33m(\u001b[0m\u001b[0mstr\u001b[0m\u001b[1;33m(\u001b[0m\u001b[0mgen_var_lst_itm\u001b[0m\u001b[1;33m)\u001b[0m\u001b[1;33m)\u001b[0m\u001b[1;33m)\u001b[0m\u001b[1;33m\u001b[0m\u001b[0m\n\u001b[0m\u001b[0;32m      7\u001b[0m     \u001b[0mi_\u001b[0m \u001b[1;33m+=\u001b[0m \u001b[1;36m1\u001b[0m\u001b[1;33m\u001b[0m\u001b[0m\n\u001b[0;32m      8\u001b[0m \u001b[1;32mimport\u001b[0m \u001b[0mscipy\u001b[0m\u001b[1;33m\u001b[0m\u001b[0m\n",
      "\u001b[1;32m/PythonApp/anaconda1/lib/python2.7/site-packages/pandas/core/series.pyc\u001b[0m in \u001b[0;36mmap\u001b[1;34m(self, arg, na_action)\u001b[0m\n\u001b[0;32m   2156\u001b[0m         \u001b[1;32melse\u001b[0m\u001b[1;33m:\u001b[0m\u001b[1;33m\u001b[0m\u001b[0m\n\u001b[0;32m   2157\u001b[0m             \u001b[1;31m# arg is a function\u001b[0m\u001b[1;33m\u001b[0m\u001b[1;33m\u001b[0m\u001b[0m\n\u001b[1;32m-> 2158\u001b[1;33m             \u001b[0mnew_values\u001b[0m \u001b[1;33m=\u001b[0m \u001b[0mmap_f\u001b[0m\u001b[1;33m(\u001b[0m\u001b[0mvalues\u001b[0m\u001b[1;33m,\u001b[0m \u001b[0marg\u001b[0m\u001b[1;33m)\u001b[0m\u001b[1;33m\u001b[0m\u001b[0m\n\u001b[0m\u001b[0;32m   2159\u001b[0m \u001b[1;33m\u001b[0m\u001b[0m\n\u001b[0;32m   2160\u001b[0m         return self._constructor(new_values,\n",
      "\u001b[1;32mpandas/_libs/src/inference.pyx\u001b[0m in \u001b[0;36mpandas._libs.lib.map_infer (pandas/_libs/lib.c:65141)\u001b[1;34m()\u001b[0m\n",
      "\u001b[1;32m<ipython-input-15-b67702930e78>\u001b[0m in \u001b[0;36m<lambda>\u001b[1;34m(x)\u001b[0m\n\u001b[0;32m      4\u001b[0m \u001b[1;32mfor\u001b[0m \u001b[0mgen_var_lst_itm\u001b[0m \u001b[1;32min\u001b[0m \u001b[0mgen_var_lst\u001b[0m\u001b[1;33m:\u001b[0m\u001b[1;33m\u001b[0m\u001b[0m\n\u001b[0;32m      5\u001b[0m     \u001b[1;32mif\u001b[0m \u001b[0mi_\u001b[0m \u001b[1;33m%\u001b[0m \u001b[1;36m100\u001b[0m \u001b[1;33m==\u001b[0m \u001b[1;36m0\u001b[0m\u001b[1;33m:\u001b[0m \u001b[1;32mprint\u001b[0m\u001b[1;33m(\u001b[0m\u001b[0mi_\u001b[0m\u001b[1;33m)\u001b[0m\u001b[1;33m\u001b[0m\u001b[0m\n\u001b[1;32m----> 6\u001b[1;33m     \u001b[0mGV_in_text\u001b[0m\u001b[1;33m[\u001b[0m\u001b[1;34m'GV_'\u001b[0m\u001b[1;33m+\u001b[0m\u001b[0mstr\u001b[0m\u001b[1;33m(\u001b[0m\u001b[0mgen_var_lst_itm\u001b[0m\u001b[1;33m)\u001b[0m\u001b[1;33m]\u001b[0m \u001b[1;33m=\u001b[0m \u001b[0mdf_all\u001b[0m\u001b[1;33m[\u001b[0m\u001b[1;34m'Text'\u001b[0m\u001b[1;33m]\u001b[0m\u001b[1;33m.\u001b[0m\u001b[0mmap\u001b[0m\u001b[1;33m(\u001b[0m\u001b[1;32mlambda\u001b[0m \u001b[0mx\u001b[0m\u001b[1;33m:\u001b[0m \u001b[0mstr\u001b[0m\u001b[1;33m(\u001b[0m\u001b[0mx\u001b[0m\u001b[1;33m)\u001b[0m\u001b[1;33m.\u001b[0m\u001b[0mcount\u001b[0m\u001b[1;33m(\u001b[0m\u001b[0mstr\u001b[0m\u001b[1;33m(\u001b[0m\u001b[0mgen_var_lst_itm\u001b[0m\u001b[1;33m)\u001b[0m\u001b[1;33m)\u001b[0m\u001b[1;33m)\u001b[0m\u001b[1;33m\u001b[0m\u001b[0m\n\u001b[0m\u001b[0;32m      7\u001b[0m     \u001b[0mi_\u001b[0m \u001b[1;33m+=\u001b[0m \u001b[1;36m1\u001b[0m\u001b[1;33m\u001b[0m\u001b[0m\n\u001b[0;32m      8\u001b[0m \u001b[1;32mimport\u001b[0m \u001b[0mscipy\u001b[0m\u001b[1;33m\u001b[0m\u001b[0m\n",
      "\u001b[1;31mKeyboardInterrupt\u001b[0m: "
     ]
    }
   ],
   "source": [
    "\"\"\"\n",
    "i_ = 0\n",
    "GV_in_text = pd.DataFrame()\n",
    "for gen_var_lst_itm in gen_var_lst:\n",
    "    if i_ % 100 == 0: print(i_)\n",
    "    GV_in_text['GV_'+str(gen_var_lst_itm)] = df_all['Text'].map(lambda x: str(x).count(str(gen_var_lst_itm)))\n",
    "    i_ += 1\n",
    "import scipy\n",
    "a = scipy.sparse.csr_matrix(GV_in_text)\n",
    "save_sparse_csr('../input/GV_in_text.npz',a)\n",
    "pd.Series(GV_in_text.columns.values).to_csv('GV_in_text_header.csv',index=False)\n",
    "    \"\"\"\n",
    "    "
   ]
  },
  {
   "cell_type": "code",
   "execution_count": 16,
   "metadata": {
    "collapsed": false
   },
   "outputs": [
    {
     "data": {
      "text/plain": [
       "(4675, 3091)"
      ]
     },
     "execution_count": 16,
     "metadata": {},
     "output_type": "execute_result"
    }
   ],
   "source": [
    "import scipy\n",
    "GV_in_text = load_sparse_csr('../input/GV_in_text.npz')\n",
    "GV_in_text.shape"
   ]
  },
  {
   "cell_type": "code",
   "execution_count": 18,
   "metadata": {
    "collapsed": false
   },
   "outputs": [
    {
     "data": {
      "text/plain": [
       "\"a = scipy.sparse.csr_matrix(Gene_dict_occur)\\nsave_sparse_csr('../input/Gene_dict_occur.npz',a)\\nb = load_sparse_csr('../input/Gene_dict_occur.npz')\\nb.shape\""
      ]
     },
     "execution_count": 18,
     "metadata": {},
     "output_type": "execute_result"
    }
   ],
   "source": [
    "\"\"\"a = scipy.sparse.csr_matrix(Gene_dict_occur)\n",
    "save_sparse_csr('../input/Gene_dict_occur.npz',a)\n",
    "b = load_sparse_csr('../input/Gene_dict_occur.npz')\n",
    "b.shape\"\"\""
   ]
  },
  {
   "cell_type": "code",
   "execution_count": 19,
   "metadata": {
    "collapsed": false
   },
   "outputs": [],
   "source": [
    "#df_all[df_all.Variation=='560_561insER']\n",
    "#df_all.GV_560_561insER.sum()\n",
    "#df_all.GV_"
   ]
  },
  {
   "cell_type": "code",
   "execution_count": 20,
   "metadata": {
    "collapsed": false
   },
   "outputs": [
    {
     "data": {
      "text/plain": [
       "3209"
      ]
     },
     "execution_count": 20,
     "metadata": {},
     "output_type": "execute_result"
    }
   ],
   "source": [
    "df_all.shape[1]+GV_in_text.shape[1]"
   ]
  },
  {
   "cell_type": "code",
   "execution_count": 21,
   "metadata": {
    "_cell_guid": "1e1d0749-641c-4072-ae36-07836c9441ad",
    "_uuid": "7284a70313209984e91e5a86140babdbd8cf2ec3",
    "collapsed": true
   },
   "outputs": [],
   "source": [
    "\n",
    "for c in df_all.columns:\n",
    "    if df_all[c].dtype == 'object':\n",
    "        if c in ['Gene','Variation']:\n",
    "            lbl = preprocessing.LabelEncoder()\n",
    "            df_all[c+'_lbl_enc'] = lbl.fit_transform(df_all[c].values)  \n",
    "            df_all[c+'_len'] = df_all[c].map(lambda x: len(str(x)))\n",
    "            df_all[c+'_words'] = df_all[c].map(lambda x: len(str(x).split(' ')))\n",
    "        elif c != 'Text':\n",
    "            lbl = preprocessing.LabelEncoder()\n",
    "            df_all[c] = lbl.fit_transform(df_all[c].values)\n",
    "        if c=='Text': \n",
    "            df_all[c+'_len'] = df_all[c].map(lambda x: len(str(x)))\n",
    "            df_all[c+'_words'] = df_all[c].map(lambda x: len(str(x).split(' '))) "
   ]
  },
  {
   "cell_type": "code",
   "execution_count": 47,
   "metadata": {
    "_cell_guid": "40b24910-e725-46cb-83f2-7f2b1568a620",
    "_uuid": "5acc2a931c434152bf7236bd94f77ee3a40facec",
    "collapsed": false
   },
   "outputs": [
    {
     "name": "stdout",
     "output_type": "stream",
     "text": [
      "Pipeline...\n"
     ]
    }
   ],
   "source": [
    "\n",
    "class cust_regression_vals(sklearn.base.BaseEstimator, sklearn.base.TransformerMixin):\n",
    "    def fit(self, x, y=None):\n",
    "        return self\n",
    "    def transform(self, x):\n",
    "        x = x.drop(['Gene', 'Variation','ID','Text'],axis=1)\n",
    "        return x\n",
    "\n",
    "class cust_txt_col(sklearn.base.BaseEstimator, sklearn.base.TransformerMixin):\n",
    "    def __init__(self, key):\n",
    "        self.key = key\n",
    "    def fit(self, x, y=None):\n",
    "        return self\n",
    "    def transform(self, x):\n",
    "        return x[self.key].apply(str)\n",
    "    \n",
    "class DenseTransformer(sklearn.base.TransformerMixin):\n",
    "\n",
    "    def transform(self, X, y=None, **fit_params):\n",
    "        return X.todense()\n",
    "\n",
    "    def fit_transform(self, X, y=None, **fit_params):\n",
    "        self.fit(X, y, **fit_params)\n",
    "        return self.transform(X)\n",
    "\n",
    "    def fit(self, X, y=None, **fit_params):\n",
    "        return self\n",
    "\n",
    "print('Pipeline...')\n",
    "fp = pipeline.Pipeline([\n",
    "    ('union', pipeline.FeatureUnion(\n",
    "        #n_jobs = 4,\n",
    "        transformer_list = [\n",
    "            ('standard', cust_regression_vals()),\n",
    "            ('pi1', pipeline.Pipeline([('Gene', cust_txt_col('Gene')), \n",
    "                                      ('count_Gene', feature_extraction.text.CountVectorizer(analyzer=u'char', ngram_range=(1, 8))), \n",
    "                                      ('to_dense', DenseTransformer()),\n",
    "                                      ('tsvd1', decomposition.TruncatedSVD(n_components=20, n_iter=25, random_state=12))])),\n",
    "            \n",
    "            ('pi2', pipeline.Pipeline([('Variation', cust_txt_col('Variation')), \n",
    "                                       ('count_Variation', feature_extraction.text.CountVectorizer(analyzer=u'char', ngram_range=(1, 8))),\n",
    "                                       ('to_dense', DenseTransformer()),\n",
    "                                       ('tsvd2', decomposition.TruncatedSVD(n_components=20, n_iter=25, random_state=12))])),\n",
    "            #commented for Kaggle Limits\n",
    "            ('pi3', pipeline.Pipeline([('Text', cust_txt_col('Text')), \n",
    "                                       ('tfidf_Text', feature_extraction.text.TfidfVectorizer(ngram_range=(1, 2))),\n",
    "                                       #('to_dense', DenseTransformer()),\n",
    "                                       ('tsvd3', decomposition.TruncatedSVD(n_components=50, n_iter=25, random_state=12))]))\n",
    "        ])\n",
    "    )])"
   ]
  },
  {
   "cell_type": "code",
   "execution_count": 48,
   "metadata": {
    "collapsed": false
   },
   "outputs": [
    {
     "data": {
      "text/plain": [
       "\"\\nnci_gene_count_dict = pd.read_csv('/dnbusr1/liuc/code/nci_gene_count_dict.csv')\\ni_ = 0\\nGene_dict_occur = pd.DataFrame()\\nfor gen_var_lst_itm in nci_gene_count_dict.gram.values:\\n    if i_ % 500 == 0: print(i_)\\n    Gene_dict_occur['Gene_dict'+str(gen_var_lst_itm)] = df_all['Text'].map(lambda x: str(x).count(str(gen_var_lst_itm)))\\n    i_ += 1\\nimport scipy\\n\\nnp.save('../input/Gene_dict_occur.npy',scipy.sparse.csr_matrix(Gene_dict_occur.values))\\n\""
      ]
     },
     "execution_count": 48,
     "metadata": {},
     "output_type": "execute_result"
    }
   ],
   "source": [
    "# Only run it one time. Don't need to rerun it.\n",
    "\"\"\"\n",
    "nci_gene_count_dict = pd.read_csv('/dnbusr1/liuc/code/nci_gene_count_dict.csv')\n",
    "i_ = 0\n",
    "Gene_dict_occur = pd.DataFrame()\n",
    "for gen_var_lst_itm in nci_gene_count_dict.gram.values:\n",
    "    if i_ % 500 == 0: print(i_)\n",
    "    Gene_dict_occur['Gene_dict'+str(gen_var_lst_itm)] = df_all['Text'].map(lambda x: str(x).count(str(gen_var_lst_itm)))\n",
    "    i_ += 1\n",
    "import scipy\n",
    "\n",
    "np.save('../input/Gene_dict_occur.npy',scipy.sparse.csr_matrix(Gene_dict_occur.values))\n",
    "\"\"\""
   ]
  },
  {
   "cell_type": "code",
   "execution_count": 96,
   "metadata": {
    "collapsed": false
   },
   "outputs": [
    {
     "data": {
      "text/plain": [
       "<4675x80459 sparse matrix of type '<type 'numpy.int64'>'\n",
       "\twith 4924884 stored elements in Compressed Sparse Row format>"
      ]
     },
     "execution_count": 96,
     "metadata": {},
     "output_type": "execute_result"
    }
   ],
   "source": [
    "Gene_dict_occur = load_sparse_csr('../input/Gene_dict_occur.npz')\n",
    "Gene_dict_occur"
   ]
  },
  {
   "cell_type": "code",
   "execution_count": 49,
   "metadata": {
    "_cell_guid": "7b577006-1892-4429-a5f1-91dfde1ae20c",
    "_uuid": "7408549b36db8d6111b9ae94738430b9a4c5f093",
    "collapsed": false
   },
   "outputs": [
    {
     "data": {
      "text/plain": [
       "'import numpy\\na = cust_regression_vals()\\na = a.fit_transform(df_all)\\nb = cust_txt_col(key = \\'Gene\\')\\nb.fit_transform(df_all)\\nc = feature_extraction.text.CountVectorizer(analyzer=u\\'char\\', ngram_range=(1, 8),dtype=numpy.int64)#,key = \\'count_Gene\\')\\nc = c.fit_transform(df_all)\\nimport pickle\\nfrom sklearn import decomposition\\n#pickle.dump(c, open( \"c.p\", \"wb\" ))\\nc = pickle.load( open( \"c.p\", \"rb\" ))\\nd = decomposition.TruncatedSVD(n_components=20, n_iter=25, random_state=12)\\nd.fit_transform(c.toarray())\\n\\nfp.fit_transform(df_all.iloc[:50]).shape'"
      ]
     },
     "execution_count": 49,
     "metadata": {},
     "output_type": "execute_result"
    }
   ],
   "source": [
    "\"\"\"import numpy\n",
    "a = cust_regression_vals()\n",
    "a = a.fit_transform(df_all)\n",
    "b = cust_txt_col(key = 'Gene')\n",
    "b.fit_transform(df_all)\n",
    "c = feature_extraction.text.CountVectorizer(analyzer=u'char', ngram_range=(1, 8),dtype=numpy.int64)#,key = 'count_Gene')\n",
    "c = c.fit_transform(df_all)\n",
    "import pickle\n",
    "from sklearn import decomposition\n",
    "#pickle.dump(c, open( \"c.p\", \"wb\" ))\n",
    "c = pickle.load( open( \"c.p\", \"rb\" ))\n",
    "d = decomposition.TruncatedSVD(n_components=20, n_iter=25, random_state=12)\n",
    "d.fit_transform(c.toarray())\n",
    "\n",
    "fp.fit_transform(df_all.iloc[:50]).shape\"\"\""
   ]
  },
  {
   "cell_type": "code",
   "execution_count": 50,
   "metadata": {
    "collapsed": true
   },
   "outputs": [],
   "source": [
    "train = df_all.iloc[:len(train_all)]\n",
    "test = df_all.iloc[len(train_all):]"
   ]
  },
  {
   "cell_type": "code",
   "execution_count": 51,
   "metadata": {
    "collapsed": false
   },
   "outputs": [
    {
     "data": {
      "text/plain": [
       "((3689, 126), (986, 126))"
      ]
     },
     "execution_count": 51,
     "metadata": {},
     "output_type": "execute_result"
    }
   ],
   "source": [
    "train.shape,test.shape"
   ]
  },
  {
   "cell_type": "code",
   "execution_count": 40,
   "metadata": {
    "collapsed": false
   },
   "outputs": [],
   "source": [
    "\"\"\"\n",
    "p3 = pipeline.Pipeline([('Text', cust_txt_col('Text')), \n",
    "                                       ('tfidf_Text', feature_extraction.text.TfidfVectorizer(ngram_range=(1, 2))),\n",
    "                                       #('to_dense', DenseTransformer()),\n",
    "                                       ('tsvd3', decomposition.TruncatedSVD(n_components=50, n_iter=25, random_state=12))\n",
    "                       ])\n",
    "p3.fit(train)\n",
    "a = p3.transform(train)\n",
    "tsvd3 = decomposition.TruncatedSVD(n_components=50, n_iter=25, random_state=12)\n",
    "tsvd3.fit(a)\n",
    "b = tsvd3.transform(a)\n",
    "b.shape\"\"\""
   ]
  },
  {
   "cell_type": "code",
   "execution_count": 32,
   "metadata": {
    "collapsed": false,
    "scrolled": true
   },
   "outputs": [],
   "source": [
    "import sys\n",
    "ls =[]\n",
    "for var, obj in locals().items():\n",
    "     ls.append((var, sys.getsizeof(obj)))"
   ]
  },
  {
   "cell_type": "code",
   "execution_count": 52,
   "metadata": {
    "collapsed": true
   },
   "outputs": [],
   "source": [
    "\"\"\"pd.DataFrame(ls).sort_values(1,ascending=False)\n",
    "\n",
    "del test_text_df\n",
    "del train_x\n",
    "del train_all\n",
    "del train_text_df\n",
    "del test_x\n",
    "del test_text_df2\n",
    "del train2\"\"\""
   ]
  },
  {
   "cell_type": "code",
   "execution_count": 53,
   "metadata": {
    "_cell_guid": "be5c3dd3-df70-4971-a188-deeea75c242f",
    "_uuid": "d46c9543e3517b65a4e7a48a6470ebfdceb7cc04",
    "collapsed": false
   },
   "outputs": [
    {
     "name": "stdout",
     "output_type": "stream",
     "text": [
      "(3689, 212)\n",
      "(986, 212)\n"
     ]
    }
   ],
   "source": [
    "train = fp.fit_transform(train); print(train.shape)\n",
    "test = fp.transform(test); print(test.shape)"
   ]
  },
  {
   "cell_type": "code",
   "execution_count": 54,
   "metadata": {
    "collapsed": false
   },
   "outputs": [
    {
     "data": {
      "text/plain": [
       "3303"
      ]
     },
     "execution_count": 54,
     "metadata": {},
     "output_type": "execute_result"
    }
   ],
   "source": [
    "GV_in_text.shape[1]+train.shape[1]"
   ]
  },
  {
   "cell_type": "code",
   "execution_count": 55,
   "metadata": {
    "collapsed": false
   },
   "outputs": [],
   "source": [
    "pi4 = pipeline.Pipeline([ ('tsvd4', decomposition.TruncatedSVD(n_components=50, n_iter=25, random_state=12))])\n",
    "GV_in_text_svd_train = pi4.fit_transform(GV_in_text[:len(train)])\n",
    "GV_in_text_svd_test = pi4.transform(GV_in_text[len(train):])\n"
   ]
  },
  {
   "cell_type": "code",
   "execution_count": 99,
   "metadata": {
    "collapsed": false
   },
   "outputs": [],
   "source": [
    "pi5 = pipeline.Pipeline([ ('tsvd4', decomposition.TruncatedSVD(n_components=100, n_iter=25, random_state=12))])\n",
    "Gene_dict_occur_svd_train = pi5.fit_transform(Gene_dict_occur[:len(train)])\n",
    "Gene_dict_occur_svd_test = pi5.transform(Gene_dict_occur[len(train):])"
   ]
  },
  {
   "cell_type": "code",
   "execution_count": 100,
   "metadata": {
    "collapsed": false
   },
   "outputs": [
    {
     "name": "stdout",
     "output_type": "stream",
     "text": [
      "0.986370250773\n",
      "0.884366561099\n",
      "0.379880688194\n"
     ]
    }
   ],
   "source": [
    "print pi5.named_steps['tsvd4'].explained_variance_ratio_.sum()\n",
    "print pi4.named_steps['tsvd4'].explained_variance_ratio_.sum()\n",
    "print fp.named_steps['union'].transformer_list[3][1].steps[-1][1].explained_variance_ratio_.sum()"
   ]
  },
  {
   "cell_type": "code",
   "execution_count": 57,
   "metadata": {
    "collapsed": false
   },
   "outputs": [],
   "source": [
    "pickle.dump(train, open( \"../input/train.p\", \"wb\" ))\n",
    "pickle.dump(test, open( \"../input/test.p\", \"wb\" ))"
   ]
  },
  {
   "cell_type": "code",
   "execution_count": 29,
   "metadata": {
    "collapsed": false
   },
   "outputs": [],
   "source": [
    "#train2 = df_all.iloc[:len(train),126:]\n",
    "#test2 = df_all.iloc[len(train):,126:]\n",
    "#print train2.shape, test2.shape\n",
    "#train = pickle.load( open( \"../input/train.p\", \"rb\" ))\n",
    "#test  = pickle.load( open( \"../input/test.p\", \"rb\" ))\n",
    "#train2 = pd.concat([train,train2],1)\n",
    "#test2 = pd.concat([test,test2],1)\n",
    "#test2.index = test.index"
   ]
  },
  {
   "cell_type": "code",
   "execution_count": 30,
   "metadata": {
    "collapsed": false
   },
   "outputs": [],
   "source": [
    "#train = pd.DataFrame(train)\n",
    "#train.columns = feature_name\n",
    "#test = pd.DataFrame(test)\n",
    "#test.columns = feature_name\n"
   ]
  },
  {
   "cell_type": "code",
   "execution_count": 71,
   "metadata": {
    "collapsed": false
   },
   "outputs": [
    {
     "name": "stdout",
     "output_type": "stream",
     "text": [
      "((3689, 300), (986, 300))\n"
     ]
    }
   ],
   "source": [
    "# To include Doc2Vec\n",
    "text_train_arrays = np.load('text_train_arrays.npy')\n",
    "text_test_arrays = np.load('text_test_arrays.npy')\n",
    "print(text_train_arrays.shape,text_test_arrays.shape)\n",
    "text_train_arrays = pd.DataFrame(text_train_arrays,columns=['Doc2Vec_' + str(i) for i in range(text_train_arrays.shape[1])])\n",
    "text_test_arrays = pd.DataFrame(text_test_arrays,columns=['Doc2Vec_' + str(i) for i in range(text_test_arrays.shape[1])])"
   ]
  },
  {
   "cell_type": "code",
   "execution_count": 117,
   "metadata": {
    "collapsed": false
   },
   "outputs": [
    {
     "name": "stdout",
     "output_type": "stream",
     "text": [
      "((3689, 3303), (986, 3303))\n"
     ]
    }
   ],
   "source": [
    "#train2 =np.hstack([train,Gene_dict_occur_svd_train,GV_in_text_svd_train,text_train_arrays])\n",
    "#test2 = np.hstack([test,Gene_dict_occur_svd_test,GV_in_text_svd_test,text_test_arrays])\n",
    "\n",
    "#train2 =np.hstack([train,GV_in_text_svd_train,text_train_arrays])\n",
    "#test2 = np.hstack([test,GV_in_text_svd_test,text_test_arrays])\n",
    "#train2 =np.hstack([train,Gene_dict_occur_svd_train,GV_in_text[:len(train)].todense(),text_train_arrays]).A\n",
    "#test2 = np.hstack([test,Gene_dict_occur_svd_test,GV_in_text[len(train):].todense(),text_test_arrays]).A\n",
    "\n",
    "train2 =np.hstack([train,GV_in_text[:len(train)].todense()]).A\n",
    "test2 = np.hstack([test,GV_in_text[len(train):].todense()]).A\n",
    "\n",
    "#train2 =np.hstack([train,GV_in_text_svd_train])\n",
    "#test2 = np.hstack([test,GV_in_text_svd_test])\n",
    "print(train2.shape,test2.shape)"
   ]
  },
  {
   "cell_type": "code",
   "execution_count": 118,
   "metadata": {
    "_cell_guid": "965d9aa1-e5b4-4ea3-87de-bb7cf15a1fa4",
    "_uuid": "85dd48482699778f1d3069bdb95d6cd4d5c7bdb2",
    "collapsed": false
   },
   "outputs": [],
   "source": [
    "#y = y-1\n",
    "pd.Series(y).value_counts()\n",
    "assert (y.min()== 0) and (y.max()==8)"
   ]
  },
  {
   "cell_type": "code",
   "execution_count": 119,
   "metadata": {
    "collapsed": false
   },
   "outputs": [
    {
     "name": "stdout",
     "output_type": "stream",
     "text": [
      "((3689, 3303), (986, 3303))\n"
     ]
    }
   ],
   "source": [
    "print(train2.shape,test2.shape)"
   ]
  },
  {
   "cell_type": "code",
   "execution_count": 120,
   "metadata": {
    "_cell_guid": "82396513-6fcf-451f-b4d0-8cde4ca1d873",
    "_uuid": "3ac6fab01e4682aa60cec953d317f0f91fc2db19",
    "collapsed": false
   },
   "outputs": [
    {
     "name": "stdout",
     "output_type": "stream",
     "text": [
      "[0]\ttrain-mlogloss:2.18865\tvalid-mlogloss:2.18964\n",
      "Multiple eval metrics have been passed: 'valid-mlogloss' will be used for early stopping.\n",
      "\n",
      "Will train until valid-mlogloss hasn't improved in 100 rounds.\n",
      "[50]\ttrain-mlogloss:1.86201\tvalid-mlogloss:1.90278\n",
      "[100]\ttrain-mlogloss:1.64592\tvalid-mlogloss:1.71683\n",
      "[150]\ttrain-mlogloss:1.47893\tvalid-mlogloss:1.57515\n",
      "[200]\ttrain-mlogloss:1.35231\tvalid-mlogloss:1.46602\n",
      "[250]\ttrain-mlogloss:1.25032\tvalid-mlogloss:1.37873\n",
      "[300]\ttrain-mlogloss:1.16856\tvalid-mlogloss:1.31075\n",
      "[350]\ttrain-mlogloss:1.09968\tvalid-mlogloss:1.25577\n",
      "[400]\ttrain-mlogloss:1.0423\tvalid-mlogloss:1.21192\n",
      "[450]\ttrain-mlogloss:0.990885\tvalid-mlogloss:1.17578\n",
      "[500]\ttrain-mlogloss:0.946107\tvalid-mlogloss:1.14577\n",
      "[550]\ttrain-mlogloss:0.906856\tvalid-mlogloss:1.12053\n",
      "[600]\ttrain-mlogloss:0.872002\tvalid-mlogloss:1.09797\n",
      "[650]\ttrain-mlogloss:0.841772\tvalid-mlogloss:1.07907\n",
      "[700]\ttrain-mlogloss:0.814744\tvalid-mlogloss:1.06218\n",
      "[750]\ttrain-mlogloss:0.790718\tvalid-mlogloss:1.04796\n",
      "[800]\ttrain-mlogloss:0.768674\tvalid-mlogloss:1.03672\n",
      "[850]\ttrain-mlogloss:0.747629\tvalid-mlogloss:1.02685\n",
      "[900]\ttrain-mlogloss:0.727164\tvalid-mlogloss:1.01686\n",
      "[950]\ttrain-mlogloss:0.70782\tvalid-mlogloss:1.00757\n",
      "[1000]\ttrain-mlogloss:0.690357\tvalid-mlogloss:0.999744\n",
      "[1050]\ttrain-mlogloss:0.674338\tvalid-mlogloss:0.992774\n",
      "[1100]\ttrain-mlogloss:0.658788\tvalid-mlogloss:0.985986\n",
      "[1150]\ttrain-mlogloss:0.644091\tvalid-mlogloss:0.98026\n",
      "[1200]\ttrain-mlogloss:0.629748\tvalid-mlogloss:0.97514\n",
      "[1250]\ttrain-mlogloss:0.61622\tvalid-mlogloss:0.970167\n",
      "[1300]\ttrain-mlogloss:0.603722\tvalid-mlogloss:0.965835\n",
      "[1350]\ttrain-mlogloss:0.591846\tvalid-mlogloss:0.961671\n",
      "[1400]\ttrain-mlogloss:0.580201\tvalid-mlogloss:0.957955\n",
      "[1450]\ttrain-mlogloss:0.568897\tvalid-mlogloss:0.954673\n",
      "[1500]\ttrain-mlogloss:0.558237\tvalid-mlogloss:0.951618\n",
      "[1550]\ttrain-mlogloss:0.547951\tvalid-mlogloss:0.948575\n",
      "[1600]\ttrain-mlogloss:0.537958\tvalid-mlogloss:0.945743\n",
      "[1650]\ttrain-mlogloss:0.528096\tvalid-mlogloss:0.943004\n",
      "[1700]\ttrain-mlogloss:0.518345\tvalid-mlogloss:0.940396\n",
      "[1750]\ttrain-mlogloss:0.508781\tvalid-mlogloss:0.937944\n",
      "[1800]\ttrain-mlogloss:0.499649\tvalid-mlogloss:0.935623\n",
      "[1850]\ttrain-mlogloss:0.490871\tvalid-mlogloss:0.933553\n",
      "[1900]\ttrain-mlogloss:0.482405\tvalid-mlogloss:0.931588\n",
      "[1950]\ttrain-mlogloss:0.474203\tvalid-mlogloss:0.930081\n",
      "[2000]\ttrain-mlogloss:0.466371\tvalid-mlogloss:0.928955\n",
      "[2050]\ttrain-mlogloss:0.458898\tvalid-mlogloss:0.927899\n",
      "[2100]\ttrain-mlogloss:0.451469\tvalid-mlogloss:0.926564\n",
      "[2150]\ttrain-mlogloss:0.444242\tvalid-mlogloss:0.92524\n",
      "[2200]\ttrain-mlogloss:0.436997\tvalid-mlogloss:0.923572\n",
      "[2250]\ttrain-mlogloss:0.429768\tvalid-mlogloss:0.922359\n",
      "[2300]\ttrain-mlogloss:0.422662\tvalid-mlogloss:0.921259\n",
      "[2350]\ttrain-mlogloss:0.415609\tvalid-mlogloss:0.920331\n",
      "[2400]\ttrain-mlogloss:0.408724\tvalid-mlogloss:0.919641\n",
      "[2450]\ttrain-mlogloss:0.402065\tvalid-mlogloss:0.918889\n",
      "[2500]\ttrain-mlogloss:0.395704\tvalid-mlogloss:0.918514\n",
      "[2550]\ttrain-mlogloss:0.389509\tvalid-mlogloss:0.918202\n",
      "[2600]\ttrain-mlogloss:0.383233\tvalid-mlogloss:0.91797\n",
      "[2650]\ttrain-mlogloss:0.377177\tvalid-mlogloss:0.917722\n",
      "[2700]\ttrain-mlogloss:0.370993\tvalid-mlogloss:0.916977\n",
      "[2750]\ttrain-mlogloss:0.365189\tvalid-mlogloss:0.916575\n",
      "[2800]\ttrain-mlogloss:0.359486\tvalid-mlogloss:0.916143\n",
      "[2850]\ttrain-mlogloss:0.353914\tvalid-mlogloss:0.915857\n",
      "[2900]\ttrain-mlogloss:0.34865\tvalid-mlogloss:0.915558\n",
      "[2950]\ttrain-mlogloss:0.343267\tvalid-mlogloss:0.915086\n",
      "[3000]\ttrain-mlogloss:0.338009\tvalid-mlogloss:0.914662\n",
      "[3050]\ttrain-mlogloss:0.332962\tvalid-mlogloss:0.914343\n",
      "[3100]\ttrain-mlogloss:0.328086\tvalid-mlogloss:0.914057\n",
      "[3150]\ttrain-mlogloss:0.32326\tvalid-mlogloss:0.913813\n",
      "[3200]\ttrain-mlogloss:0.318378\tvalid-mlogloss:0.913471\n",
      "[3250]\ttrain-mlogloss:0.31376\tvalid-mlogloss:0.913396\n",
      "[3300]\ttrain-mlogloss:0.309228\tvalid-mlogloss:0.913249\n",
      "[3350]\ttrain-mlogloss:0.30486\tvalid-mlogloss:0.913133\n",
      "[3400]\ttrain-mlogloss:0.300611\tvalid-mlogloss:0.913139\n",
      "[3450]\ttrain-mlogloss:0.2962\tvalid-mlogloss:0.913038\n",
      "[3500]\ttrain-mlogloss:0.291751\tvalid-mlogloss:0.913154\n",
      "Stopping. Best iteration:\n",
      "[3447]\ttrain-mlogloss:0.296449\tvalid-mlogloss:0.912998\n",
      "\n",
      "0.912997527878\n",
      "[0]\ttrain-mlogloss:2.18866\tvalid-mlogloss:2.18911\n",
      "Multiple eval metrics have been passed: 'valid-mlogloss' will be used for early stopping.\n",
      "\n",
      "Will train until valid-mlogloss hasn't improved in 100 rounds.\n",
      "[50]\ttrain-mlogloss:1.86018\tvalid-mlogloss:1.88256\n",
      "[100]\ttrain-mlogloss:1.64\tvalid-mlogloss:1.68149\n",
      "[150]\ttrain-mlogloss:1.47592\tvalid-mlogloss:1.53348\n",
      "[200]\ttrain-mlogloss:1.3479\tvalid-mlogloss:1.42264\n",
      "[250]\ttrain-mlogloss:1.24844\tvalid-mlogloss:1.33648\n",
      "[300]\ttrain-mlogloss:1.16698\tvalid-mlogloss:1.26896\n",
      "[350]\ttrain-mlogloss:1.10035\tvalid-mlogloss:1.21506\n",
      "[400]\ttrain-mlogloss:1.04257\tvalid-mlogloss:1.169\n",
      "[450]\ttrain-mlogloss:0.992568\tvalid-mlogloss:1.13036\n",
      "[500]\ttrain-mlogloss:0.949648\tvalid-mlogloss:1.09804\n",
      "[550]\ttrain-mlogloss:0.91123\tvalid-mlogloss:1.07104\n",
      "[600]\ttrain-mlogloss:0.87706\tvalid-mlogloss:1.04702\n",
      "[650]\ttrain-mlogloss:0.846583\tvalid-mlogloss:1.02619\n",
      "[700]\ttrain-mlogloss:0.819661\tvalid-mlogloss:1.00918\n",
      "[750]\ttrain-mlogloss:0.795205\tvalid-mlogloss:0.994442\n",
      "[800]\ttrain-mlogloss:0.771762\tvalid-mlogloss:0.980633\n",
      "[850]\ttrain-mlogloss:0.748904\tvalid-mlogloss:0.968219\n",
      "[900]\ttrain-mlogloss:0.727479\tvalid-mlogloss:0.957422\n",
      "[950]\ttrain-mlogloss:0.706918\tvalid-mlogloss:0.947534\n",
      "[1000]\ttrain-mlogloss:0.688238\tvalid-mlogloss:0.939797\n",
      "[1050]\ttrain-mlogloss:0.671398\tvalid-mlogloss:0.932679\n",
      "[1100]\ttrain-mlogloss:0.655854\tvalid-mlogloss:0.926791\n",
      "[1150]\ttrain-mlogloss:0.64119\tvalid-mlogloss:0.921027\n",
      "[1200]\ttrain-mlogloss:0.627038\tvalid-mlogloss:0.915358\n",
      "[1250]\ttrain-mlogloss:0.613264\tvalid-mlogloss:0.910512\n",
      "[1300]\ttrain-mlogloss:0.600208\tvalid-mlogloss:0.905747\n",
      "[1350]\ttrain-mlogloss:0.58795\tvalid-mlogloss:0.901324\n",
      "[1400]\ttrain-mlogloss:0.576281\tvalid-mlogloss:0.897604\n",
      "[1450]\ttrain-mlogloss:0.564929\tvalid-mlogloss:0.894292\n",
      "[1500]\ttrain-mlogloss:0.554024\tvalid-mlogloss:0.890882\n",
      "[1550]\ttrain-mlogloss:0.543507\tvalid-mlogloss:0.887784\n",
      "[1600]\ttrain-mlogloss:0.533357\tvalid-mlogloss:0.884879\n",
      "[1650]\ttrain-mlogloss:0.523864\tvalid-mlogloss:0.882605\n",
      "[1700]\ttrain-mlogloss:0.514456\tvalid-mlogloss:0.880561\n",
      "[1750]\ttrain-mlogloss:0.50518\tvalid-mlogloss:0.878677\n",
      "[1800]\ttrain-mlogloss:0.495768\tvalid-mlogloss:0.876884\n",
      "[1850]\ttrain-mlogloss:0.486822\tvalid-mlogloss:0.875367\n",
      "[1900]\ttrain-mlogloss:0.477886\tvalid-mlogloss:0.873661\n",
      "[1950]\ttrain-mlogloss:0.469402\tvalid-mlogloss:0.87207\n",
      "[2000]\ttrain-mlogloss:0.460737\tvalid-mlogloss:0.870485\n",
      "[2050]\ttrain-mlogloss:0.452381\tvalid-mlogloss:0.869104\n",
      "[2100]\ttrain-mlogloss:0.444437\tvalid-mlogloss:0.867774\n",
      "[2150]\ttrain-mlogloss:0.436777\tvalid-mlogloss:0.866749\n",
      "[2200]\ttrain-mlogloss:0.429537\tvalid-mlogloss:0.865885\n",
      "[2250]\ttrain-mlogloss:0.42257\tvalid-mlogloss:0.864915\n",
      "[2300]\ttrain-mlogloss:0.415849\tvalid-mlogloss:0.864106\n",
      "[2350]\ttrain-mlogloss:0.409353\tvalid-mlogloss:0.863477\n",
      "[2400]\ttrain-mlogloss:0.402799\tvalid-mlogloss:0.862732\n",
      "[2450]\ttrain-mlogloss:0.396318\tvalid-mlogloss:0.86184\n",
      "[2500]\ttrain-mlogloss:0.390011\tvalid-mlogloss:0.861189\n",
      "[2550]\ttrain-mlogloss:0.384092\tvalid-mlogloss:0.860445\n",
      "[2600]\ttrain-mlogloss:0.378062\tvalid-mlogloss:0.859583\n",
      "[2650]\ttrain-mlogloss:0.372296\tvalid-mlogloss:0.858889\n",
      "[2700]\ttrain-mlogloss:0.366506\tvalid-mlogloss:0.858261\n",
      "[2750]\ttrain-mlogloss:0.360853\tvalid-mlogloss:0.857493\n",
      "[2800]\ttrain-mlogloss:0.355537\tvalid-mlogloss:0.856935\n",
      "[2850]\ttrain-mlogloss:0.350169\tvalid-mlogloss:0.856364\n",
      "[2900]\ttrain-mlogloss:0.344938\tvalid-mlogloss:0.855901\n",
      "[2950]\ttrain-mlogloss:0.339754\tvalid-mlogloss:0.855407\n",
      "[3000]\ttrain-mlogloss:0.334756\tvalid-mlogloss:0.854955\n",
      "[3050]\ttrain-mlogloss:0.329741\tvalid-mlogloss:0.854613\n",
      "[3100]\ttrain-mlogloss:0.32493\tvalid-mlogloss:0.854227\n",
      "[3150]\ttrain-mlogloss:0.320211\tvalid-mlogloss:0.854067\n",
      "[3200]\ttrain-mlogloss:0.315405\tvalid-mlogloss:0.853817\n",
      "[3250]\ttrain-mlogloss:0.310641\tvalid-mlogloss:0.853574\n",
      "[3300]\ttrain-mlogloss:0.305956\tvalid-mlogloss:0.853225\n",
      "[3350]\ttrain-mlogloss:0.301545\tvalid-mlogloss:0.853066\n",
      "[3400]\ttrain-mlogloss:0.29742\tvalid-mlogloss:0.85299\n",
      "[3450]\ttrain-mlogloss:0.293286\tvalid-mlogloss:0.852877\n",
      "[3500]\ttrain-mlogloss:0.289337\tvalid-mlogloss:0.853022\n",
      "Stopping. Best iteration:\n",
      "[3435]\ttrain-mlogloss:0.294545\tvalid-mlogloss:0.852787\n",
      "\n",
      "0.8527866637\n",
      "[0]\ttrain-mlogloss:2.18877\tvalid-mlogloss:2.18929\n",
      "Multiple eval metrics have been passed: 'valid-mlogloss' will be used for early stopping.\n",
      "\n",
      "Will train until valid-mlogloss hasn't improved in 100 rounds.\n",
      "[50]\ttrain-mlogloss:1.86014\tvalid-mlogloss:1.88676\n",
      "[100]\ttrain-mlogloss:1.64425\tvalid-mlogloss:1.69082\n",
      "[150]\ttrain-mlogloss:1.47718\tvalid-mlogloss:1.545\n",
      "[200]\ttrain-mlogloss:1.34886\tvalid-mlogloss:1.43224\n",
      "[250]\ttrain-mlogloss:1.24777\tvalid-mlogloss:1.34454\n",
      "[300]\ttrain-mlogloss:1.16743\tvalid-mlogloss:1.27664\n",
      "[350]\ttrain-mlogloss:1.10092\tvalid-mlogloss:1.22272\n",
      "[400]\ttrain-mlogloss:1.0447\tvalid-mlogloss:1.17705\n",
      "[450]\ttrain-mlogloss:0.9956\tvalid-mlogloss:1.13918\n",
      "[500]\ttrain-mlogloss:0.954135\tvalid-mlogloss:1.10765\n",
      "[550]\ttrain-mlogloss:0.917827\tvalid-mlogloss:1.08081\n",
      "[600]\ttrain-mlogloss:0.885035\tvalid-mlogloss:1.05844\n",
      "[650]\ttrain-mlogloss:0.854593\tvalid-mlogloss:1.03875\n",
      "[700]\ttrain-mlogloss:0.827008\tvalid-mlogloss:1.0219\n",
      "[750]\ttrain-mlogloss:0.801668\tvalid-mlogloss:1.00741\n",
      "[800]\ttrain-mlogloss:0.778762\tvalid-mlogloss:0.994482\n",
      "[850]\ttrain-mlogloss:0.757056\tvalid-mlogloss:0.982517\n",
      "[900]\ttrain-mlogloss:0.736737\tvalid-mlogloss:0.972316\n",
      "[950]\ttrain-mlogloss:0.716794\tvalid-mlogloss:0.963593\n",
      "[1000]\ttrain-mlogloss:0.697403\tvalid-mlogloss:0.955184\n",
      "[1050]\ttrain-mlogloss:0.679609\tvalid-mlogloss:0.947952\n",
      "[1100]\ttrain-mlogloss:0.663291\tvalid-mlogloss:0.94097\n",
      "[1150]\ttrain-mlogloss:0.647427\tvalid-mlogloss:0.934329\n",
      "[1200]\ttrain-mlogloss:0.633016\tvalid-mlogloss:0.928583\n",
      "[1250]\ttrain-mlogloss:0.619168\tvalid-mlogloss:0.922691\n",
      "[1300]\ttrain-mlogloss:0.605861\tvalid-mlogloss:0.917628\n",
      "[1350]\ttrain-mlogloss:0.593109\tvalid-mlogloss:0.912623\n",
      "[1400]\ttrain-mlogloss:0.581027\tvalid-mlogloss:0.907739\n",
      "[1450]\ttrain-mlogloss:0.569559\tvalid-mlogloss:0.903384\n",
      "[1500]\ttrain-mlogloss:0.558654\tvalid-mlogloss:0.899443\n",
      "[1550]\ttrain-mlogloss:0.547845\tvalid-mlogloss:0.896056\n",
      "[1600]\ttrain-mlogloss:0.537491\tvalid-mlogloss:0.892753\n",
      "[1650]\ttrain-mlogloss:0.527624\tvalid-mlogloss:0.889657\n",
      "[1700]\ttrain-mlogloss:0.518116\tvalid-mlogloss:0.886612\n",
      "[1750]\ttrain-mlogloss:0.508589\tvalid-mlogloss:0.883613\n",
      "[1800]\ttrain-mlogloss:0.499654\tvalid-mlogloss:0.880878\n",
      "[1850]\ttrain-mlogloss:0.490829\tvalid-mlogloss:0.878338\n",
      "[1900]\ttrain-mlogloss:0.482328\tvalid-mlogloss:0.875607\n",
      "[1950]\ttrain-mlogloss:0.47413\tvalid-mlogloss:0.873202\n",
      "[2000]\ttrain-mlogloss:0.466346\tvalid-mlogloss:0.870914\n",
      "[2050]\ttrain-mlogloss:0.458911\tvalid-mlogloss:0.868859\n",
      "[2100]\ttrain-mlogloss:0.451399\tvalid-mlogloss:0.866899\n",
      "[2150]\ttrain-mlogloss:0.444211\tvalid-mlogloss:0.86502\n",
      "[2200]\ttrain-mlogloss:0.43708\tvalid-mlogloss:0.863338\n",
      "[2250]\ttrain-mlogloss:0.429944\tvalid-mlogloss:0.861798\n",
      "[2300]\ttrain-mlogloss:0.423259\tvalid-mlogloss:0.860182\n",
      "[2350]\ttrain-mlogloss:0.416568\tvalid-mlogloss:0.858886\n",
      "[2400]\ttrain-mlogloss:0.409874\tvalid-mlogloss:0.857483\n",
      "[2450]\ttrain-mlogloss:0.403072\tvalid-mlogloss:0.855911\n",
      "[2500]\ttrain-mlogloss:0.396372\tvalid-mlogloss:0.854227\n",
      "[2550]\ttrain-mlogloss:0.39\tvalid-mlogloss:0.852739\n",
      "[2600]\ttrain-mlogloss:0.383749\tvalid-mlogloss:0.851249\n",
      "[2650]\ttrain-mlogloss:0.37755\tvalid-mlogloss:0.849927\n",
      "[2700]\ttrain-mlogloss:0.371518\tvalid-mlogloss:0.848996\n",
      "[2750]\ttrain-mlogloss:0.365948\tvalid-mlogloss:0.847972\n",
      "[2800]\ttrain-mlogloss:0.360519\tvalid-mlogloss:0.847098\n",
      "[2850]\ttrain-mlogloss:0.355535\tvalid-mlogloss:0.846147\n",
      "[2900]\ttrain-mlogloss:0.350639\tvalid-mlogloss:0.845363\n",
      "[2950]\ttrain-mlogloss:0.345693\tvalid-mlogloss:0.84493\n",
      "[3000]\ttrain-mlogloss:0.340879\tvalid-mlogloss:0.844366\n",
      "[3050]\ttrain-mlogloss:0.336189\tvalid-mlogloss:0.84393\n",
      "[3100]\ttrain-mlogloss:0.331688\tvalid-mlogloss:0.843397\n",
      "[3150]\ttrain-mlogloss:0.327282\tvalid-mlogloss:0.842719\n",
      "[3200]\ttrain-mlogloss:0.322858\tvalid-mlogloss:0.84202\n",
      "[3250]\ttrain-mlogloss:0.318641\tvalid-mlogloss:0.841285\n",
      "[3300]\ttrain-mlogloss:0.314428\tvalid-mlogloss:0.840849\n",
      "[3350]\ttrain-mlogloss:0.310268\tvalid-mlogloss:0.840192\n",
      "[3400]\ttrain-mlogloss:0.306229\tvalid-mlogloss:0.839821\n",
      "[3450]\ttrain-mlogloss:0.302137\tvalid-mlogloss:0.839398\n",
      "[3500]\ttrain-mlogloss:0.29815\tvalid-mlogloss:0.839162\n",
      "[3550]\ttrain-mlogloss:0.294164\tvalid-mlogloss:0.838973\n",
      "[3600]\ttrain-mlogloss:0.290192\tvalid-mlogloss:0.838734\n",
      "[3650]\ttrain-mlogloss:0.286411\tvalid-mlogloss:0.838256\n",
      "[3700]\ttrain-mlogloss:0.282566\tvalid-mlogloss:0.837986\n",
      "[3750]\ttrain-mlogloss:0.278883\tvalid-mlogloss:0.837961\n",
      "[3800]\ttrain-mlogloss:0.275309\tvalid-mlogloss:0.83789\n",
      "[3850]\ttrain-mlogloss:0.271738\tvalid-mlogloss:0.837779\n",
      "[3900]\ttrain-mlogloss:0.268081\tvalid-mlogloss:0.83793\n",
      "[3950]\ttrain-mlogloss:0.264444\tvalid-mlogloss:0.83796\n",
      "Stopping. Best iteration:\n",
      "[3865]\ttrain-mlogloss:0.270658\tvalid-mlogloss:0.837735\n",
      "\n",
      "0.837734666276\n",
      "[0]\ttrain-mlogloss:2.18879\tvalid-mlogloss:2.1888\n",
      "Multiple eval metrics have been passed: 'valid-mlogloss' will be used for early stopping.\n",
      "\n",
      "Will train until valid-mlogloss hasn't improved in 100 rounds.\n",
      "[50]\ttrain-mlogloss:1.86052\tvalid-mlogloss:1.8698\n",
      "[100]\ttrain-mlogloss:1.6422\tvalid-mlogloss:1.66334\n",
      "[150]\ttrain-mlogloss:1.48024\tvalid-mlogloss:1.51056\n",
      "[200]\ttrain-mlogloss:1.35464\tvalid-mlogloss:1.39659\n",
      "[250]\ttrain-mlogloss:1.25502\tvalid-mlogloss:1.30929\n",
      "[300]\ttrain-mlogloss:1.17394\tvalid-mlogloss:1.23787\n",
      "[350]\ttrain-mlogloss:1.1067\tvalid-mlogloss:1.18156\n",
      "[400]\ttrain-mlogloss:1.0507\tvalid-mlogloss:1.13626\n",
      "[450]\ttrain-mlogloss:1.00224\tvalid-mlogloss:1.0983\n",
      "[500]\ttrain-mlogloss:0.96004\tvalid-mlogloss:1.0654\n",
      "[550]\ttrain-mlogloss:0.923024\tvalid-mlogloss:1.03758\n",
      "[600]\ttrain-mlogloss:0.890352\tvalid-mlogloss:1.01478\n",
      "[650]\ttrain-mlogloss:0.860826\tvalid-mlogloss:0.995782\n",
      "[700]\ttrain-mlogloss:0.832599\tvalid-mlogloss:0.977585\n",
      "[750]\ttrain-mlogloss:0.806938\tvalid-mlogloss:0.962142\n",
      "[800]\ttrain-mlogloss:0.783398\tvalid-mlogloss:0.94923\n",
      "[850]\ttrain-mlogloss:0.760877\tvalid-mlogloss:0.93763\n",
      "[900]\ttrain-mlogloss:0.739906\tvalid-mlogloss:0.927131\n",
      "[950]\ttrain-mlogloss:0.720846\tvalid-mlogloss:0.916907\n",
      "[1000]\ttrain-mlogloss:0.701928\tvalid-mlogloss:0.907589\n",
      "[1050]\ttrain-mlogloss:0.683727\tvalid-mlogloss:0.899719\n",
      "[1100]\ttrain-mlogloss:0.667062\tvalid-mlogloss:0.892477\n",
      "[1150]\ttrain-mlogloss:0.651288\tvalid-mlogloss:0.885881\n",
      "[1200]\ttrain-mlogloss:0.636337\tvalid-mlogloss:0.879863\n",
      "[1250]\ttrain-mlogloss:0.622078\tvalid-mlogloss:0.874328\n",
      "[1300]\ttrain-mlogloss:0.608468\tvalid-mlogloss:0.868505\n",
      "[1350]\ttrain-mlogloss:0.595514\tvalid-mlogloss:0.863074\n",
      "[1400]\ttrain-mlogloss:0.583196\tvalid-mlogloss:0.858149\n",
      "[1450]\ttrain-mlogloss:0.571469\tvalid-mlogloss:0.854023\n",
      "[1500]\ttrain-mlogloss:0.560537\tvalid-mlogloss:0.850133\n",
      "[1550]\ttrain-mlogloss:0.550197\tvalid-mlogloss:0.846694\n",
      "[1600]\ttrain-mlogloss:0.540296\tvalid-mlogloss:0.843611\n",
      "[1650]\ttrain-mlogloss:0.530665\tvalid-mlogloss:0.840991\n",
      "[1700]\ttrain-mlogloss:0.521287\tvalid-mlogloss:0.838699\n",
      "[1750]\ttrain-mlogloss:0.512044\tvalid-mlogloss:0.83669\n",
      "[1800]\ttrain-mlogloss:0.503274\tvalid-mlogloss:0.834777\n",
      "[1850]\ttrain-mlogloss:0.494726\tvalid-mlogloss:0.833036\n",
      "[1900]\ttrain-mlogloss:0.486466\tvalid-mlogloss:0.831173\n",
      "[1950]\ttrain-mlogloss:0.478299\tvalid-mlogloss:0.829649\n",
      "[2000]\ttrain-mlogloss:0.47033\tvalid-mlogloss:0.828187\n",
      "[2050]\ttrain-mlogloss:0.462389\tvalid-mlogloss:0.826517\n",
      "[2100]\ttrain-mlogloss:0.454625\tvalid-mlogloss:0.8249\n",
      "[2150]\ttrain-mlogloss:0.447105\tvalid-mlogloss:0.823507\n",
      "[2200]\ttrain-mlogloss:0.439447\tvalid-mlogloss:0.822152\n",
      "[2250]\ttrain-mlogloss:0.432049\tvalid-mlogloss:0.821064\n",
      "[2300]\ttrain-mlogloss:0.425137\tvalid-mlogloss:0.819702\n",
      "[2350]\ttrain-mlogloss:0.418589\tvalid-mlogloss:0.818394\n",
      "[2400]\ttrain-mlogloss:0.412068\tvalid-mlogloss:0.817372\n",
      "[2450]\ttrain-mlogloss:0.405547\tvalid-mlogloss:0.816129\n",
      "[2500]\ttrain-mlogloss:0.399314\tvalid-mlogloss:0.814939\n",
      "[2550]\ttrain-mlogloss:0.393328\tvalid-mlogloss:0.813943\n",
      "[2600]\ttrain-mlogloss:0.387507\tvalid-mlogloss:0.812982\n",
      "[2650]\ttrain-mlogloss:0.381682\tvalid-mlogloss:0.811779\n",
      "[2700]\ttrain-mlogloss:0.376032\tvalid-mlogloss:0.810562\n",
      "[2750]\ttrain-mlogloss:0.370256\tvalid-mlogloss:0.809639\n",
      "[2800]\ttrain-mlogloss:0.364633\tvalid-mlogloss:0.808912\n",
      "[2850]\ttrain-mlogloss:0.35929\tvalid-mlogloss:0.808092\n",
      "[2900]\ttrain-mlogloss:0.354006\tvalid-mlogloss:0.807435\n",
      "[2950]\ttrain-mlogloss:0.348945\tvalid-mlogloss:0.807038\n",
      "[3000]\ttrain-mlogloss:0.343833\tvalid-mlogloss:0.806553\n",
      "[3050]\ttrain-mlogloss:0.33883\tvalid-mlogloss:0.806059\n",
      "[3100]\ttrain-mlogloss:0.333869\tvalid-mlogloss:0.805722\n",
      "[3150]\ttrain-mlogloss:0.328934\tvalid-mlogloss:0.804998\n",
      "[3200]\ttrain-mlogloss:0.324069\tvalid-mlogloss:0.804393\n",
      "[3250]\ttrain-mlogloss:0.319339\tvalid-mlogloss:0.803885\n",
      "[3300]\ttrain-mlogloss:0.31483\tvalid-mlogloss:0.8035\n",
      "[3350]\ttrain-mlogloss:0.31025\tvalid-mlogloss:0.803019\n",
      "[3400]\ttrain-mlogloss:0.305622\tvalid-mlogloss:0.802629\n",
      "[3450]\ttrain-mlogloss:0.301073\tvalid-mlogloss:0.802487\n",
      "[3500]\ttrain-mlogloss:0.296676\tvalid-mlogloss:0.802366\n",
      "[3550]\ttrain-mlogloss:0.292452\tvalid-mlogloss:0.802346\n",
      "[3600]\ttrain-mlogloss:0.288238\tvalid-mlogloss:0.802276\n",
      "[3650]\ttrain-mlogloss:0.283864\tvalid-mlogloss:0.802332\n",
      "Stopping. Best iteration:\n",
      "[3588]\ttrain-mlogloss:0.289245\tvalid-mlogloss:0.802155\n",
      "\n",
      "0.802154821691\n",
      "[0]\ttrain-mlogloss:2.18862\tvalid-mlogloss:2.18925\n",
      "Multiple eval metrics have been passed: 'valid-mlogloss' will be used for early stopping.\n",
      "\n",
      "Will train until valid-mlogloss hasn't improved in 100 rounds.\n",
      "[50]\ttrain-mlogloss:1.85662\tvalid-mlogloss:1.88567\n",
      "[100]\ttrain-mlogloss:1.63285\tvalid-mlogloss:1.68249\n",
      "[150]\ttrain-mlogloss:1.4672\tvalid-mlogloss:1.53654\n",
      "[200]\ttrain-mlogloss:1.34056\tvalid-mlogloss:1.42599\n",
      "[250]\ttrain-mlogloss:1.24169\tvalid-mlogloss:1.3398\n",
      "[300]\ttrain-mlogloss:1.16202\tvalid-mlogloss:1.27131\n",
      "[350]\ttrain-mlogloss:1.0944\tvalid-mlogloss:1.21637\n",
      "[400]\ttrain-mlogloss:1.03579\tvalid-mlogloss:1.17157\n",
      "[450]\ttrain-mlogloss:0.984652\tvalid-mlogloss:1.13317\n",
      "[500]\ttrain-mlogloss:0.941784\tvalid-mlogloss:1.1034\n",
      "[550]\ttrain-mlogloss:0.903356\tvalid-mlogloss:1.07801\n",
      "[600]\ttrain-mlogloss:0.869022\tvalid-mlogloss:1.05534\n",
      "[650]\ttrain-mlogloss:0.838364\tvalid-mlogloss:1.03645\n",
      "[700]\ttrain-mlogloss:0.81097\tvalid-mlogloss:1.02052\n",
      "[750]\ttrain-mlogloss:0.786245\tvalid-mlogloss:1.00634\n",
      "[800]\ttrain-mlogloss:0.763034\tvalid-mlogloss:0.994229\n",
      "[850]\ttrain-mlogloss:0.740936\tvalid-mlogloss:0.98402\n",
      "[900]\ttrain-mlogloss:0.720443\tvalid-mlogloss:0.974322\n",
      "[950]\ttrain-mlogloss:0.701281\tvalid-mlogloss:0.965699\n",
      "[1000]\ttrain-mlogloss:0.683209\tvalid-mlogloss:0.957789\n",
      "[1050]\ttrain-mlogloss:0.665911\tvalid-mlogloss:0.950146\n",
      "[1100]\ttrain-mlogloss:0.649764\tvalid-mlogloss:0.943378\n",
      "[1150]\ttrain-mlogloss:0.634564\tvalid-mlogloss:0.937727\n",
      "[1200]\ttrain-mlogloss:0.620525\tvalid-mlogloss:0.932483\n",
      "[1250]\ttrain-mlogloss:0.607745\tvalid-mlogloss:0.928265\n",
      "[1300]\ttrain-mlogloss:0.595276\tvalid-mlogloss:0.924205\n",
      "[1350]\ttrain-mlogloss:0.583757\tvalid-mlogloss:0.920885\n",
      "[1400]\ttrain-mlogloss:0.572654\tvalid-mlogloss:0.917594\n",
      "[1450]\ttrain-mlogloss:0.561835\tvalid-mlogloss:0.914054\n",
      "[1500]\ttrain-mlogloss:0.551404\tvalid-mlogloss:0.910499\n",
      "[1550]\ttrain-mlogloss:0.541481\tvalid-mlogloss:0.907791\n",
      "[1600]\ttrain-mlogloss:0.531865\tvalid-mlogloss:0.905173\n",
      "[1650]\ttrain-mlogloss:0.522659\tvalid-mlogloss:0.902918\n",
      "[1700]\ttrain-mlogloss:0.51318\tvalid-mlogloss:0.901226\n",
      "[1750]\ttrain-mlogloss:0.504444\tvalid-mlogloss:0.899681\n",
      "[1800]\ttrain-mlogloss:0.495868\tvalid-mlogloss:0.898067\n",
      "[1850]\ttrain-mlogloss:0.487533\tvalid-mlogloss:0.896081\n",
      "[1900]\ttrain-mlogloss:0.479394\tvalid-mlogloss:0.894347\n",
      "[1950]\ttrain-mlogloss:0.471492\tvalid-mlogloss:0.892903\n",
      "[2000]\ttrain-mlogloss:0.463446\tvalid-mlogloss:0.891491\n",
      "[2050]\ttrain-mlogloss:0.455627\tvalid-mlogloss:0.889922\n",
      "[2100]\ttrain-mlogloss:0.448291\tvalid-mlogloss:0.888757\n",
      "[2150]\ttrain-mlogloss:0.441044\tvalid-mlogloss:0.887666\n",
      "[2200]\ttrain-mlogloss:0.43388\tvalid-mlogloss:0.886493\n",
      "[2250]\ttrain-mlogloss:0.427133\tvalid-mlogloss:0.885629\n",
      "[2300]\ttrain-mlogloss:0.42039\tvalid-mlogloss:0.884694\n",
      "[2350]\ttrain-mlogloss:0.413769\tvalid-mlogloss:0.883895\n",
      "[2400]\ttrain-mlogloss:0.407221\tvalid-mlogloss:0.883306\n",
      "[2450]\ttrain-mlogloss:0.400838\tvalid-mlogloss:0.882306\n",
      "[2500]\ttrain-mlogloss:0.394627\tvalid-mlogloss:0.881633\n",
      "[2550]\ttrain-mlogloss:0.388588\tvalid-mlogloss:0.881077\n",
      "[2600]\ttrain-mlogloss:0.382748\tvalid-mlogloss:0.880612\n",
      "[2650]\ttrain-mlogloss:0.376949\tvalid-mlogloss:0.879935\n",
      "[2700]\ttrain-mlogloss:0.371134\tvalid-mlogloss:0.879091\n",
      "[2750]\ttrain-mlogloss:0.365515\tvalid-mlogloss:0.878435\n",
      "[2800]\ttrain-mlogloss:0.360099\tvalid-mlogloss:0.877686\n",
      "[2850]\ttrain-mlogloss:0.354649\tvalid-mlogloss:0.877086\n",
      "[2900]\ttrain-mlogloss:0.349284\tvalid-mlogloss:0.876691\n",
      "[2950]\ttrain-mlogloss:0.343914\tvalid-mlogloss:0.876284\n",
      "[3000]\ttrain-mlogloss:0.338504\tvalid-mlogloss:0.875999\n",
      "[3050]\ttrain-mlogloss:0.333391\tvalid-mlogloss:0.876058\n",
      "[3100]\ttrain-mlogloss:0.328229\tvalid-mlogloss:0.876052\n",
      "Stopping. Best iteration:\n",
      "[3018]\ttrain-mlogloss:0.336627\tvalid-mlogloss:0.87587\n",
      "\n",
      "0.875869610896\n"
     ]
    },
    {
     "data": {
      "text/plain": [
       "0.8563086580881443"
      ]
     },
     "execution_count": 120,
     "metadata": {},
     "output_type": "execute_result"
    }
   ],
   "source": [
    "denom = 0\n",
    "fold = 5\n",
    "#Change to 5, 1 for Kaggle Limits\n",
    "scores = []\n",
    "for i in range(fold):\n",
    "    params = {\n",
    "        'eta': 0.005,\n",
    "        'max_depth': 4,\n",
    "        'objective': 'multi:softprob',\n",
    "        'eval_metric': 'mlogloss',\n",
    "        'num_class': 9,\n",
    "        'seed': i,\n",
    "        'silent': True\n",
    "    }\n",
    "    x1, x2, y1, y2 = model_selection.train_test_split(train2, y, test_size=0.18, random_state=i)\n",
    "    watchlist = [(xgb.DMatrix(x1, y1), 'train'), (xgb.DMatrix(x2, y2), 'valid')]\n",
    "    model = xgb.train(params, xgb.DMatrix(x1, y1), 10000,  watchlist, verbose_eval=50, early_stopping_rounds=100)\n",
    "    \n",
    "    score1 = metrics.log_loss(y2, model.predict(xgb.DMatrix(x2), ntree_limit=model.best_ntree_limit), labels = list(range(9)))\n",
    "    print(score1)\n",
    "   \n",
    "    #if score < 0.9:\n",
    "    scores.append(score1)\n",
    "    if denom != 0:\n",
    "        pred = model.predict(xgb.DMatrix(test2), ntree_limit=model.best_ntree_limit+80)\n",
    "        preds += pred\n",
    "    else:\n",
    "        pred = model.predict(xgb.DMatrix(test2), ntree_limit=model.best_ntree_limit+80)\n",
    "        preds = pred.copy()\n",
    "    denom += 1\n",
    "    submission = pd.DataFrame(pred, columns=['class'+str(c+1) for c in range(9)])\n",
    "    submission['ID'] = pid\n",
    "    submission.to_csv('submission_xgb_fold_'  + str(i) + '.csv', index=False)\n",
    "\n",
    "pd.Series(scores).mean()"
   ]
  },
  {
   "cell_type": "code",
   "execution_count": 121,
   "metadata": {
    "collapsed": false
   },
   "outputs": [
    {
     "data": {
      "text/plain": [
       "0.8563086580881443"
      ]
     },
     "execution_count": 121,
     "metadata": {},
     "output_type": "execute_result"
    }
   ],
   "source": [
    "pd.Series(scores).mean()#0.8563086580881443"
   ]
  },
  {
   "cell_type": "code",
   "execution_count": 123,
   "metadata": {
    "collapsed": true
   },
   "outputs": [
    {
     "ename": "AssertionError",
     "evalue": "",
     "output_type": "error",
     "traceback": [
      "\u001b[1;31m---------------------------------------------------------------------------\u001b[0m",
      "\u001b[1;31mAssertionError\u001b[0m                            Traceback (most recent call last)",
      "\u001b[1;32m<ipython-input-123-37486a79f1b7>\u001b[0m in \u001b[0;36m<module>\u001b[1;34m()\u001b[0m\n\u001b[0;32m      3\u001b[0m \u001b[0msubmission\u001b[0m\u001b[1;33m[\u001b[0m\u001b[1;34m'ID'\u001b[0m\u001b[1;33m]\u001b[0m \u001b[1;33m=\u001b[0m \u001b[0mpid\u001b[0m\u001b[1;33m\u001b[0m\u001b[0m\n\u001b[0;32m      4\u001b[0m \u001b[0ma\u001b[0m \u001b[1;33m=\u001b[0m \u001b[0msubmission\u001b[0m\u001b[1;33m.\u001b[0m\u001b[0miloc\u001b[0m\u001b[1;33m[\u001b[0m\u001b[1;33m:\u001b[0m\u001b[1;33m,\u001b[0m\u001b[1;33m:\u001b[0m\u001b[1;33m-\u001b[0m\u001b[1;36m1\u001b[0m\u001b[1;33m]\u001b[0m\u001b[1;33m.\u001b[0m\u001b[0msum\u001b[0m\u001b[1;33m(\u001b[0m\u001b[0maxis\u001b[0m\u001b[1;33m=\u001b[0m\u001b[1;36m1\u001b[0m\u001b[1;33m)\u001b[0m\u001b[1;33m\u001b[0m\u001b[0m\n\u001b[1;32m----> 5\u001b[1;33m \u001b[1;32massert\u001b[0m \u001b[0mint\u001b[0m\u001b[1;33m(\u001b[0m\u001b[0ma\u001b[0m\u001b[1;33m.\u001b[0m\u001b[0msum\u001b[0m\u001b[1;33m(\u001b[0m\u001b[1;33m)\u001b[0m\u001b[1;33m)\u001b[0m \u001b[1;33m==\u001b[0m\u001b[0mtest\u001b[0m\u001b[1;33m.\u001b[0m\u001b[0mshape\u001b[0m\u001b[1;33m[\u001b[0m\u001b[1;36m0\u001b[0m\u001b[1;33m]\u001b[0m\u001b[1;33m\u001b[0m\u001b[0m\n\u001b[0m\u001b[0;32m      6\u001b[0m \u001b[0msubmission\u001b[0m\u001b[1;33m.\u001b[0m\u001b[0mto_csv\u001b[0m\u001b[1;33m(\u001b[0m\u001b[1;34m'/dnbusr1/liuc/code/submission_xg22.csv'\u001b[0m\u001b[1;33m,\u001b[0m \u001b[0mindex\u001b[0m\u001b[1;33m=\u001b[0m\u001b[0mFalse\u001b[0m\u001b[1;33m)\u001b[0m\u001b[1;33m\u001b[0m\u001b[0m\n",
      "\u001b[1;31mAssertionError\u001b[0m: "
     ]
    }
   ],
   "source": [
    "preds /= denom\n",
    "submission = pd.DataFrame(preds, columns=['class'+str(c+1) for c in range(9)])\n",
    "submission['ID'] = pid\n",
    "a = submission.iloc[:,:-1].sum(axis=1)\n",
    "assert int(a.sum()) ==test.shape[0]\n",
    "submission.to_csv('/dnbusr1/liuc/code/submission_xg22.csv', index=False)"
   ]
  },
  {
   "cell_type": "code",
   "execution_count": null,
   "metadata": {
    "collapsed": true
   },
   "outputs": [],
   "source": [
    "\n",
    "def evaluate_features(X, y, probas):\n",
    "\n",
    "    pred_indices = np.argmax(probas, axis=1)\n",
    "    classes = np.unique(y)\n",
    "    preds = classes[pred_indices]\n",
    "    print('Log loss: {}'.format(log_loss(y, probas)))\n",
    "    print('Accuracy: {}'.format(accuracy_score(y, preds)))\n",
    "    skplt.plot_confusion_matrix(y, preds)"
   ]
  },
  {
   "cell_type": "code",
   "execution_count": 63,
   "metadata": {
    "collapsed": false
   },
   "outputs": [
    {
     "data": {
      "text/plain": [
       "0.9229099782454753"
      ]
     },
     "execution_count": 63,
     "metadata": {},
     "output_type": "execute_result"
    }
   ],
   "source": [
    "pd.Series(scores).mean() #best: 0.8902646439307272"
   ]
  },
  {
   "cell_type": "code",
   "execution_count": 84,
   "metadata": {
    "collapsed": false
   },
   "outputs": [
    {
     "name": "stdout",
     "output_type": "stream",
     "text": [
      "Training until validation scores don't improve for 50 rounds.\n",
      "[50]\tdtrain's multi_logloss: 1.90609\tdval's multi_logloss: 1.93041\n",
      "[100]\tdtrain's multi_logloss: 1.70376\tdval's multi_logloss: 1.74758\n",
      "[150]\tdtrain's multi_logloss: 1.55062\tdval's multi_logloss: 1.60911\n",
      "[200]\tdtrain's multi_logloss: 1.43353\tdval's multi_logloss: 1.50433\n",
      "[250]\tdtrain's multi_logloss: 1.34026\tdval's multi_logloss: 1.4222\n",
      "[300]\tdtrain's multi_logloss: 1.26302\tdval's multi_logloss: 1.35554\n",
      "[350]\tdtrain's multi_logloss: 1.19892\tdval's multi_logloss: 1.30067\n",
      "[400]\tdtrain's multi_logloss: 1.14269\tdval's multi_logloss: 1.25407\n",
      "[450]\tdtrain's multi_logloss: 1.09394\tdval's multi_logloss: 1.21567\n",
      "[500]\tdtrain's multi_logloss: 1.05144\tdval's multi_logloss: 1.18258\n",
      "[550]\tdtrain's multi_logloss: 1.01335\tdval's multi_logloss: 1.15414\n",
      "[600]\tdtrain's multi_logloss: 0.97934\tdval's multi_logloss: 1.12897\n",
      "[650]\tdtrain's multi_logloss: 0.947898\tdval's multi_logloss: 1.10726\n",
      "[700]\tdtrain's multi_logloss: 0.919284\tdval's multi_logloss: 1.0882\n",
      "[750]\tdtrain's multi_logloss: 0.892509\tdval's multi_logloss: 1.07138\n",
      "[800]\tdtrain's multi_logloss: 0.866781\tdval's multi_logloss: 1.0568\n",
      "[850]\tdtrain's multi_logloss: 0.843441\tdval's multi_logloss: 1.04402\n",
      "[900]\tdtrain's multi_logloss: 0.82202\tdval's multi_logloss: 1.03197\n",
      "[950]\tdtrain's multi_logloss: 0.801416\tdval's multi_logloss: 1.02091\n",
      "[1000]\tdtrain's multi_logloss: 0.781207\tdval's multi_logloss: 1.01086\n",
      "[1050]\tdtrain's multi_logloss: 0.76345\tdval's multi_logloss: 1.00127\n",
      "[1100]\tdtrain's multi_logloss: 0.746434\tdval's multi_logloss: 0.993129\n",
      "[1150]\tdtrain's multi_logloss: 0.729389\tdval's multi_logloss: 0.985334\n",
      "[1200]\tdtrain's multi_logloss: 0.713456\tdval's multi_logloss: 0.978529\n",
      "[1250]\tdtrain's multi_logloss: 0.697395\tdval's multi_logloss: 0.971574\n",
      "[1300]\tdtrain's multi_logloss: 0.681823\tdval's multi_logloss: 0.9658\n",
      "[1350]\tdtrain's multi_logloss: 0.66661\tdval's multi_logloss: 0.959816\n",
      "[1400]\tdtrain's multi_logloss: 0.652043\tdval's multi_logloss: 0.95415\n",
      "[1450]\tdtrain's multi_logloss: 0.638725\tdval's multi_logloss: 0.949095\n",
      "[1500]\tdtrain's multi_logloss: 0.625308\tdval's multi_logloss: 0.945052\n",
      "[1550]\tdtrain's multi_logloss: 0.612995\tdval's multi_logloss: 0.940898\n",
      "[1600]\tdtrain's multi_logloss: 0.600626\tdval's multi_logloss: 0.936783\n",
      "[1650]\tdtrain's multi_logloss: 0.588469\tdval's multi_logloss: 0.933435\n",
      "[1700]\tdtrain's multi_logloss: 0.577271\tdval's multi_logloss: 0.930455\n",
      "[1750]\tdtrain's multi_logloss: 0.566163\tdval's multi_logloss: 0.927197\n",
      "[1800]\tdtrain's multi_logloss: 0.554262\tdval's multi_logloss: 0.923848\n",
      "[1850]\tdtrain's multi_logloss: 0.543561\tdval's multi_logloss: 0.921003\n",
      "[1900]\tdtrain's multi_logloss: 0.533179\tdval's multi_logloss: 0.918884\n",
      "[1950]\tdtrain's multi_logloss: 0.523413\tdval's multi_logloss: 0.916546\n",
      "[2000]\tdtrain's multi_logloss: 0.513718\tdval's multi_logloss: 0.91396\n",
      "[2050]\tdtrain's multi_logloss: 0.504096\tdval's multi_logloss: 0.911666\n",
      "[2100]\tdtrain's multi_logloss: 0.494722\tdval's multi_logloss: 0.910056\n",
      "[2150]\tdtrain's multi_logloss: 0.4856\tdval's multi_logloss: 0.908173\n",
      "[2200]\tdtrain's multi_logloss: 0.477188\tdval's multi_logloss: 0.907092\n",
      "[2250]\tdtrain's multi_logloss: 0.468833\tdval's multi_logloss: 0.905591\n",
      "[2300]\tdtrain's multi_logloss: 0.460036\tdval's multi_logloss: 0.904697\n",
      "[2350]\tdtrain's multi_logloss: 0.451829\tdval's multi_logloss: 0.90395\n",
      "[2400]\tdtrain's multi_logloss: 0.443859\tdval's multi_logloss: 0.902567\n",
      "[2450]\tdtrain's multi_logloss: 0.43632\tdval's multi_logloss: 0.90147\n",
      "[2500]\tdtrain's multi_logloss: 0.428622\tdval's multi_logloss: 0.900056\n",
      "[2550]\tdtrain's multi_logloss: 0.421045\tdval's multi_logloss: 0.899009\n",
      "[2600]\tdtrain's multi_logloss: 0.413578\tdval's multi_logloss: 0.898351\n",
      "[2650]\tdtrain's multi_logloss: 0.406507\tdval's multi_logloss: 0.897724\n",
      "[2700]\tdtrain's multi_logloss: 0.399458\tdval's multi_logloss: 0.896762\n",
      "[2750]\tdtrain's multi_logloss: 0.392881\tdval's multi_logloss: 0.896679\n",
      "[2800]\tdtrain's multi_logloss: 0.386732\tdval's multi_logloss: 0.896157\n",
      "[2850]\tdtrain's multi_logloss: 0.379953\tdval's multi_logloss: 0.895676\n",
      "Early stopping, best iteration is:\n",
      "[2836]\tdtrain's multi_logloss: 0.381732\tdval's multi_logloss: 0.895643\n",
      "0.895643394001\n",
      "Training until validation scores don't improve for 50 rounds.\n",
      "[50]\tdtrain's multi_logloss: 1.90435\tdval's multi_logloss: 1.91758\n",
      "[100]\tdtrain's multi_logloss: 1.70143\tdval's multi_logloss: 1.72538\n",
      "[150]\tdtrain's multi_logloss: 1.55194\tdval's multi_logloss: 1.58483\n",
      "[200]\tdtrain's multi_logloss: 1.43664\tdval's multi_logloss: 1.47773\n",
      "[250]\tdtrain's multi_logloss: 1.34435\tdval's multi_logloss: 1.39281\n",
      "[300]\tdtrain's multi_logloss: 1.2684\tdval's multi_logloss: 1.32348\n",
      "[350]\tdtrain's multi_logloss: 1.20392\tdval's multi_logloss: 1.26621\n",
      "[400]\tdtrain's multi_logloss: 1.14942\tdval's multi_logloss: 1.22021\n",
      "[450]\tdtrain's multi_logloss: 1.10105\tdval's multi_logloss: 1.18044\n",
      "[500]\tdtrain's multi_logloss: 1.05871\tdval's multi_logloss: 1.14594\n",
      "[550]\tdtrain's multi_logloss: 1.02055\tdval's multi_logloss: 1.11586\n",
      "[600]\tdtrain's multi_logloss: 0.986173\tdval's multi_logloss: 1.09003\n",
      "[650]\tdtrain's multi_logloss: 0.95549\tdval's multi_logloss: 1.06834\n",
      "[700]\tdtrain's multi_logloss: 0.926735\tdval's multi_logloss: 1.04899\n",
      "[750]\tdtrain's multi_logloss: 0.900031\tdval's multi_logloss: 1.03114\n",
      "[800]\tdtrain's multi_logloss: 0.875696\tdval's multi_logloss: 1.01477\n",
      "[850]\tdtrain's multi_logloss: 0.852556\tdval's multi_logloss: 1.00083\n",
      "[900]\tdtrain's multi_logloss: 0.830554\tdval's multi_logloss: 0.98773\n",
      "[950]\tdtrain's multi_logloss: 0.809574\tdval's multi_logloss: 0.97619\n",
      "[1000]\tdtrain's multi_logloss: 0.790311\tdval's multi_logloss: 0.965152\n",
      "[1050]\tdtrain's multi_logloss: 0.771027\tdval's multi_logloss: 0.955241\n",
      "[1100]\tdtrain's multi_logloss: 0.75311\tdval's multi_logloss: 0.946472\n",
      "[1150]\tdtrain's multi_logloss: 0.736181\tdval's multi_logloss: 0.938889\n",
      "[1200]\tdtrain's multi_logloss: 0.719054\tdval's multi_logloss: 0.930845\n",
      "[1250]\tdtrain's multi_logloss: 0.703465\tdval's multi_logloss: 0.924187\n",
      "[1300]\tdtrain's multi_logloss: 0.688944\tdval's multi_logloss: 0.917755\n",
      "[1350]\tdtrain's multi_logloss: 0.67391\tdval's multi_logloss: 0.911854\n",
      "[1400]\tdtrain's multi_logloss: 0.658925\tdval's multi_logloss: 0.906121\n",
      "[1450]\tdtrain's multi_logloss: 0.644713\tdval's multi_logloss: 0.900541\n",
      "[1500]\tdtrain's multi_logloss: 0.631459\tdval's multi_logloss: 0.896348\n",
      "[1550]\tdtrain's multi_logloss: 0.619313\tdval's multi_logloss: 0.892212\n",
      "[1600]\tdtrain's multi_logloss: 0.607296\tdval's multi_logloss: 0.887877\n",
      "[1650]\tdtrain's multi_logloss: 0.595235\tdval's multi_logloss: 0.883483\n",
      "[1700]\tdtrain's multi_logloss: 0.583451\tdval's multi_logloss: 0.879861\n",
      "[1750]\tdtrain's multi_logloss: 0.57229\tdval's multi_logloss: 0.876632\n",
      "[1800]\tdtrain's multi_logloss: 0.560865\tdval's multi_logloss: 0.873567\n",
      "[1850]\tdtrain's multi_logloss: 0.550766\tdval's multi_logloss: 0.871197\n",
      "[1900]\tdtrain's multi_logloss: 0.540308\tdval's multi_logloss: 0.86886\n",
      "[1950]\tdtrain's multi_logloss: 0.529876\tdval's multi_logloss: 0.867063\n",
      "[2000]\tdtrain's multi_logloss: 0.519666\tdval's multi_logloss: 0.864902\n",
      "[2050]\tdtrain's multi_logloss: 0.510679\tdval's multi_logloss: 0.863273\n",
      "[2100]\tdtrain's multi_logloss: 0.50109\tdval's multi_logloss: 0.86136\n",
      "[2150]\tdtrain's multi_logloss: 0.49198\tdval's multi_logloss: 0.859367\n",
      "[2200]\tdtrain's multi_logloss: 0.48265\tdval's multi_logloss: 0.857097\n",
      "[2250]\tdtrain's multi_logloss: 0.47403\tdval's multi_logloss: 0.855713\n",
      "[2300]\tdtrain's multi_logloss: 0.465764\tdval's multi_logloss: 0.853505\n",
      "[2350]\tdtrain's multi_logloss: 0.457726\tdval's multi_logloss: 0.851673\n",
      "[2400]\tdtrain's multi_logloss: 0.449353\tdval's multi_logloss: 0.850439\n",
      "[2450]\tdtrain's multi_logloss: 0.44105\tdval's multi_logloss: 0.849492\n",
      "[2500]\tdtrain's multi_logloss: 0.43331\tdval's multi_logloss: 0.848285\n",
      "[2550]\tdtrain's multi_logloss: 0.425413\tdval's multi_logloss: 0.84703\n",
      "[2600]\tdtrain's multi_logloss: 0.418224\tdval's multi_logloss: 0.846346\n",
      "[2650]\tdtrain's multi_logloss: 0.411606\tdval's multi_logloss: 0.84541\n",
      "[2700]\tdtrain's multi_logloss: 0.40444\tdval's multi_logloss: 0.844466\n",
      "[2750]\tdtrain's multi_logloss: 0.39744\tdval's multi_logloss: 0.843703\n",
      "[2800]\tdtrain's multi_logloss: 0.390618\tdval's multi_logloss: 0.843157\n",
      "[2850]\tdtrain's multi_logloss: 0.383822\tdval's multi_logloss: 0.842274\n",
      "[2900]\tdtrain's multi_logloss: 0.377284\tdval's multi_logloss: 0.841902\n",
      "[2950]\tdtrain's multi_logloss: 0.371072\tdval's multi_logloss: 0.841605\n",
      "[3000]\tdtrain's multi_logloss: 0.364813\tdval's multi_logloss: 0.841458\n",
      "0.841457744469\n",
      "Training until validation scores don't improve for 50 rounds.\n",
      "[50]\tdtrain's multi_logloss: 1.90456\tdval's multi_logloss: 1.92302\n",
      "[100]\tdtrain's multi_logloss: 1.70385\tdval's multi_logloss: 1.73752\n",
      "[150]\tdtrain's multi_logloss: 1.55345\tdval's multi_logloss: 1.59914\n",
      "[200]\tdtrain's multi_logloss: 1.43739\tdval's multi_logloss: 1.4927\n",
      "[250]\tdtrain's multi_logloss: 1.34343\tdval's multi_logloss: 1.40669\n",
      "[300]\tdtrain's multi_logloss: 1.26707\tdval's multi_logloss: 1.33674\n",
      "[350]\tdtrain's multi_logloss: 1.20323\tdval's multi_logloss: 1.27993\n",
      "[400]\tdtrain's multi_logloss: 1.14835\tdval's multi_logloss: 1.2307\n",
      "[450]\tdtrain's multi_logloss: 1.10146\tdval's multi_logloss: 1.19092\n",
      "[500]\tdtrain's multi_logloss: 1.05991\tdval's multi_logloss: 1.1567\n",
      "[550]\tdtrain's multi_logloss: 1.02243\tdval's multi_logloss: 1.12614\n",
      "[600]\tdtrain's multi_logloss: 0.988363\tdval's multi_logloss: 1.09967\n",
      "[650]\tdtrain's multi_logloss: 0.957951\tdval's multi_logloss: 1.07628\n",
      "[700]\tdtrain's multi_logloss: 0.929376\tdval's multi_logloss: 1.05582\n",
      "[750]\tdtrain's multi_logloss: 0.902352\tdval's multi_logloss: 1.03761\n",
      "[800]\tdtrain's multi_logloss: 0.877003\tdval's multi_logloss: 1.0206\n",
      "[850]\tdtrain's multi_logloss: 0.853554\tdval's multi_logloss: 1.00613\n",
      "[900]\tdtrain's multi_logloss: 0.83098\tdval's multi_logloss: 0.992573\n",
      "[950]\tdtrain's multi_logloss: 0.810616\tdval's multi_logloss: 0.980342\n",
      "[1000]\tdtrain's multi_logloss: 0.789943\tdval's multi_logloss: 0.968918\n",
      "[1050]\tdtrain's multi_logloss: 0.771083\tdval's multi_logloss: 0.959313\n",
      "[1100]\tdtrain's multi_logloss: 0.752511\tdval's multi_logloss: 0.94948\n",
      "[1150]\tdtrain's multi_logloss: 0.733936\tdval's multi_logloss: 0.940629\n",
      "[1200]\tdtrain's multi_logloss: 0.717183\tdval's multi_logloss: 0.932683\n",
      "[1250]\tdtrain's multi_logloss: 0.7021\tdval's multi_logloss: 0.925604\n",
      "[1300]\tdtrain's multi_logloss: 0.686853\tdval's multi_logloss: 0.919686\n",
      "[1350]\tdtrain's multi_logloss: 0.671668\tdval's multi_logloss: 0.91309\n",
      "[1400]\tdtrain's multi_logloss: 0.657905\tdval's multi_logloss: 0.907719\n",
      "[1450]\tdtrain's multi_logloss: 0.643973\tdval's multi_logloss: 0.901911\n",
      "[1500]\tdtrain's multi_logloss: 0.630549\tdval's multi_logloss: 0.897602\n",
      "[1550]\tdtrain's multi_logloss: 0.617777\tdval's multi_logloss: 0.893017\n",
      "[1600]\tdtrain's multi_logloss: 0.605034\tdval's multi_logloss: 0.888301\n",
      "[1650]\tdtrain's multi_logloss: 0.593337\tdval's multi_logloss: 0.883612\n",
      "[1700]\tdtrain's multi_logloss: 0.581693\tdval's multi_logloss: 0.879561\n",
      "[1750]\tdtrain's multi_logloss: 0.570685\tdval's multi_logloss: 0.87646\n",
      "[1800]\tdtrain's multi_logloss: 0.560433\tdval's multi_logloss: 0.872437\n",
      "[1850]\tdtrain's multi_logloss: 0.548592\tdval's multi_logloss: 0.869539\n",
      "[1900]\tdtrain's multi_logloss: 0.538025\tdval's multi_logloss: 0.866505\n",
      "[1950]\tdtrain's multi_logloss: 0.528218\tdval's multi_logloss: 0.863536\n",
      "[2000]\tdtrain's multi_logloss: 0.518405\tdval's multi_logloss: 0.860422\n",
      "[2050]\tdtrain's multi_logloss: 0.508254\tdval's multi_logloss: 0.857536\n",
      "[2100]\tdtrain's multi_logloss: 0.499771\tdval's multi_logloss: 0.853901\n",
      "[2150]\tdtrain's multi_logloss: 0.490602\tdval's multi_logloss: 0.851411\n",
      "[2200]\tdtrain's multi_logloss: 0.481397\tdval's multi_logloss: 0.848698\n",
      "[2250]\tdtrain's multi_logloss: 0.473026\tdval's multi_logloss: 0.846765\n",
      "[2300]\tdtrain's multi_logloss: 0.464208\tdval's multi_logloss: 0.844512\n",
      "[2350]\tdtrain's multi_logloss: 0.455323\tdval's multi_logloss: 0.841917\n",
      "[2400]\tdtrain's multi_logloss: 0.44733\tdval's multi_logloss: 0.840462\n",
      "[2450]\tdtrain's multi_logloss: 0.438808\tdval's multi_logloss: 0.838153\n",
      "[2500]\tdtrain's multi_logloss: 0.431525\tdval's multi_logloss: 0.836391\n",
      "[2550]\tdtrain's multi_logloss: 0.423801\tdval's multi_logloss: 0.834692\n",
      "[2600]\tdtrain's multi_logloss: 0.416349\tdval's multi_logloss: 0.832667\n",
      "[2650]\tdtrain's multi_logloss: 0.409381\tdval's multi_logloss: 0.83105\n",
      "[2700]\tdtrain's multi_logloss: 0.402272\tdval's multi_logloss: 0.830172\n",
      "[2750]\tdtrain's multi_logloss: 0.395427\tdval's multi_logloss: 0.829128\n",
      "[2800]\tdtrain's multi_logloss: 0.388598\tdval's multi_logloss: 0.827749\n",
      "[2850]\tdtrain's multi_logloss: 0.381899\tdval's multi_logloss: 0.826333\n",
      "[2900]\tdtrain's multi_logloss: 0.37569\tdval's multi_logloss: 0.825432\n",
      "[2950]\tdtrain's multi_logloss: 0.369169\tdval's multi_logloss: 0.823867\n",
      "[3000]\tdtrain's multi_logloss: 0.362796\tdval's multi_logloss: 0.822839\n",
      "0.822839128426\n",
      "Training until validation scores don't improve for 50 rounds.\n",
      "[50]\tdtrain's multi_logloss: 1.91136\tdval's multi_logloss: 1.90787\n",
      "[100]\tdtrain's multi_logloss: 1.7124\tdval's multi_logloss: 1.70883\n",
      "[150]\tdtrain's multi_logloss: 1.56366\tdval's multi_logloss: 1.56215\n",
      "[200]\tdtrain's multi_logloss: 1.44866\tdval's multi_logloss: 1.45045\n",
      "[250]\tdtrain's multi_logloss: 1.355\tdval's multi_logloss: 1.36254\n",
      "[300]\tdtrain's multi_logloss: 1.27808\tdval's multi_logloss: 1.29219\n",
      "[350]\tdtrain's multi_logloss: 1.21414\tdval's multi_logloss: 1.23472\n",
      "[400]\tdtrain's multi_logloss: 1.15874\tdval's multi_logloss: 1.18628\n",
      "[450]\tdtrain's multi_logloss: 1.1104\tdval's multi_logloss: 1.14576\n",
      "[500]\tdtrain's multi_logloss: 1.06831\tdval's multi_logloss: 1.11188\n",
      "[550]\tdtrain's multi_logloss: 1.03045\tdval's multi_logloss: 1.08234\n",
      "[600]\tdtrain's multi_logloss: 0.996249\tdval's multi_logloss: 1.05597\n",
      "[650]\tdtrain's multi_logloss: 0.964791\tdval's multi_logloss: 1.03351\n",
      "[700]\tdtrain's multi_logloss: 0.935964\tdval's multi_logloss: 1.01419\n",
      "[750]\tdtrain's multi_logloss: 0.909693\tdval's multi_logloss: 0.99658\n",
      "[800]\tdtrain's multi_logloss: 0.884076\tdval's multi_logloss: 0.980658\n",
      "[850]\tdtrain's multi_logloss: 0.860364\tdval's multi_logloss: 0.966378\n",
      "[900]\tdtrain's multi_logloss: 0.837733\tdval's multi_logloss: 0.95322\n",
      "[950]\tdtrain's multi_logloss: 0.816314\tdval's multi_logloss: 0.941365\n",
      "[1000]\tdtrain's multi_logloss: 0.796728\tdval's multi_logloss: 0.930937\n",
      "[1050]\tdtrain's multi_logloss: 0.777571\tdval's multi_logloss: 0.921025\n",
      "[1100]\tdtrain's multi_logloss: 0.759676\tdval's multi_logloss: 0.912584\n",
      "[1150]\tdtrain's multi_logloss: 0.742663\tdval's multi_logloss: 0.904198\n",
      "[1200]\tdtrain's multi_logloss: 0.726702\tdval's multi_logloss: 0.89736\n",
      "[1250]\tdtrain's multi_logloss: 0.710559\tdval's multi_logloss: 0.889758\n",
      "[1300]\tdtrain's multi_logloss: 0.694884\tdval's multi_logloss: 0.882562\n",
      "[1350]\tdtrain's multi_logloss: 0.680315\tdval's multi_logloss: 0.876523\n",
      "[1400]\tdtrain's multi_logloss: 0.666355\tdval's multi_logloss: 0.870956\n",
      "[1450]\tdtrain's multi_logloss: 0.653091\tdval's multi_logloss: 0.866811\n",
      "[1500]\tdtrain's multi_logloss: 0.639971\tdval's multi_logloss: 0.861639\n",
      "[1550]\tdtrain's multi_logloss: 0.62691\tdval's multi_logloss: 0.857624\n",
      "[1600]\tdtrain's multi_logloss: 0.614031\tdval's multi_logloss: 0.853232\n",
      "[1650]\tdtrain's multi_logloss: 0.601963\tdval's multi_logloss: 0.849708\n",
      "[1700]\tdtrain's multi_logloss: 0.590386\tdval's multi_logloss: 0.846642\n",
      "[1750]\tdtrain's multi_logloss: 0.579296\tdval's multi_logloss: 0.843184\n",
      "[1800]\tdtrain's multi_logloss: 0.568264\tdval's multi_logloss: 0.839133\n",
      "[1850]\tdtrain's multi_logloss: 0.55699\tdval's multi_logloss: 0.836395\n",
      "[1900]\tdtrain's multi_logloss: 0.546344\tdval's multi_logloss: 0.833312\n",
      "[1950]\tdtrain's multi_logloss: 0.536378\tdval's multi_logloss: 0.831521\n",
      "[2000]\tdtrain's multi_logloss: 0.52635\tdval's multi_logloss: 0.828544\n",
      "[2050]\tdtrain's multi_logloss: 0.516517\tdval's multi_logloss: 0.825741\n",
      "[2100]\tdtrain's multi_logloss: 0.507485\tdval's multi_logloss: 0.823416\n",
      "[2150]\tdtrain's multi_logloss: 0.498001\tdval's multi_logloss: 0.821218\n",
      "[2200]\tdtrain's multi_logloss: 0.489549\tdval's multi_logloss: 0.819033\n",
      "[2250]\tdtrain's multi_logloss: 0.48045\tdval's multi_logloss: 0.81711\n",
      "[2300]\tdtrain's multi_logloss: 0.472456\tdval's multi_logloss: 0.815485\n",
      "[2350]\tdtrain's multi_logloss: 0.464665\tdval's multi_logloss: 0.814074\n",
      "[2400]\tdtrain's multi_logloss: 0.45686\tdval's multi_logloss: 0.81293\n",
      "[2450]\tdtrain's multi_logloss: 0.448682\tdval's multi_logloss: 0.811432\n",
      "[2500]\tdtrain's multi_logloss: 0.441005\tdval's multi_logloss: 0.809505\n",
      "[2550]\tdtrain's multi_logloss: 0.43393\tdval's multi_logloss: 0.807543\n",
      "[2600]\tdtrain's multi_logloss: 0.426088\tdval's multi_logloss: 0.806229\n",
      "[2650]\tdtrain's multi_logloss: 0.418571\tdval's multi_logloss: 0.805274\n",
      "[2700]\tdtrain's multi_logloss: 0.411075\tdval's multi_logloss: 0.80468\n",
      "[2750]\tdtrain's multi_logloss: 0.404324\tdval's multi_logloss: 0.802916\n",
      "[2800]\tdtrain's multi_logloss: 0.397933\tdval's multi_logloss: 0.801769\n",
      "[2850]\tdtrain's multi_logloss: 0.391557\tdval's multi_logloss: 0.801404\n",
      "[2900]\tdtrain's multi_logloss: 0.384774\tdval's multi_logloss: 0.800454\n",
      "[2950]\tdtrain's multi_logloss: 0.378211\tdval's multi_logloss: 0.799509\n",
      "[3000]\tdtrain's multi_logloss: 0.371511\tdval's multi_logloss: 0.798012\n",
      "0.798011862462\n",
      "Training until validation scores don't improve for 50 rounds.\n",
      "[50]\tdtrain's multi_logloss: 1.90641\tdval's multi_logloss: 1.92192\n",
      "[100]\tdtrain's multi_logloss: 1.70389\tdval's multi_logloss: 1.73095\n",
      "[150]\tdtrain's multi_logloss: 1.55371\tdval's multi_logloss: 1.59029\n",
      "[200]\tdtrain's multi_logloss: 1.43809\tdval's multi_logloss: 1.48398\n",
      "[250]\tdtrain's multi_logloss: 1.34524\tdval's multi_logloss: 1.39988\n",
      "[300]\tdtrain's multi_logloss: 1.26893\tdval's multi_logloss: 1.33189\n",
      "[350]\tdtrain's multi_logloss: 1.20414\tdval's multi_logloss: 1.27588\n",
      "[400]\tdtrain's multi_logloss: 1.14881\tdval's multi_logloss: 1.22895\n",
      "[450]\tdtrain's multi_logloss: 1.10088\tdval's multi_logloss: 1.18967\n",
      "[500]\tdtrain's multi_logloss: 1.05925\tdval's multi_logloss: 1.15748\n",
      "[550]\tdtrain's multi_logloss: 1.02119\tdval's multi_logloss: 1.12901\n",
      "[600]\tdtrain's multi_logloss: 0.986615\tdval's multi_logloss: 1.10365\n",
      "[650]\tdtrain's multi_logloss: 0.95586\tdval's multi_logloss: 1.08257\n",
      "[700]\tdtrain's multi_logloss: 0.927122\tdval's multi_logloss: 1.06405\n",
      "[750]\tdtrain's multi_logloss: 0.900187\tdval's multi_logloss: 1.04726\n",
      "[800]\tdtrain's multi_logloss: 0.87614\tdval's multi_logloss: 1.03285\n",
      "[850]\tdtrain's multi_logloss: 0.853542\tdval's multi_logloss: 1.02001\n",
      "[900]\tdtrain's multi_logloss: 0.831206\tdval's multi_logloss: 1.00812\n",
      "[950]\tdtrain's multi_logloss: 0.809962\tdval's multi_logloss: 0.997232\n",
      "[1000]\tdtrain's multi_logloss: 0.790797\tdval's multi_logloss: 0.987921\n",
      "[1050]\tdtrain's multi_logloss: 0.771784\tdval's multi_logloss: 0.979294\n",
      "[1100]\tdtrain's multi_logloss: 0.753385\tdval's multi_logloss: 0.970008\n",
      "[1150]\tdtrain's multi_logloss: 0.736205\tdval's multi_logloss: 0.962993\n",
      "[1200]\tdtrain's multi_logloss: 0.719226\tdval's multi_logloss: 0.956317\n",
      "[1250]\tdtrain's multi_logloss: 0.702756\tdval's multi_logloss: 0.950503\n",
      "[1300]\tdtrain's multi_logloss: 0.68711\tdval's multi_logloss: 0.944357\n",
      "[1350]\tdtrain's multi_logloss: 0.672247\tdval's multi_logloss: 0.939048\n",
      "[1400]\tdtrain's multi_logloss: 0.657142\tdval's multi_logloss: 0.933911\n",
      "[1450]\tdtrain's multi_logloss: 0.643906\tdval's multi_logloss: 0.929317\n",
      "[1500]\tdtrain's multi_logloss: 0.630532\tdval's multi_logloss: 0.925427\n",
      "[1550]\tdtrain's multi_logloss: 0.617675\tdval's multi_logloss: 0.921474\n",
      "[1600]\tdtrain's multi_logloss: 0.604946\tdval's multi_logloss: 0.917669\n",
      "[1650]\tdtrain's multi_logloss: 0.592532\tdval's multi_logloss: 0.914255\n",
      "[1700]\tdtrain's multi_logloss: 0.581245\tdval's multi_logloss: 0.910695\n",
      "[1750]\tdtrain's multi_logloss: 0.569439\tdval's multi_logloss: 0.908291\n",
      "[1800]\tdtrain's multi_logloss: 0.558786\tdval's multi_logloss: 0.905465\n",
      "[1850]\tdtrain's multi_logloss: 0.547393\tdval's multi_logloss: 0.902921\n",
      "[1900]\tdtrain's multi_logloss: 0.537\tdval's multi_logloss: 0.900766\n",
      "[1950]\tdtrain's multi_logloss: 0.527171\tdval's multi_logloss: 0.89809\n",
      "[2000]\tdtrain's multi_logloss: 0.517063\tdval's multi_logloss: 0.896066\n",
      "[2050]\tdtrain's multi_logloss: 0.507259\tdval's multi_logloss: 0.89384\n",
      "[2100]\tdtrain's multi_logloss: 0.498293\tdval's multi_logloss: 0.89205\n",
      "[2150]\tdtrain's multi_logloss: 0.488793\tdval's multi_logloss: 0.890319\n",
      "[2200]\tdtrain's multi_logloss: 0.480118\tdval's multi_logloss: 0.888522\n",
      "[2250]\tdtrain's multi_logloss: 0.471526\tdval's multi_logloss: 0.886602\n",
      "[2300]\tdtrain's multi_logloss: 0.462518\tdval's multi_logloss: 0.885109\n",
      "[2350]\tdtrain's multi_logloss: 0.454323\tdval's multi_logloss: 0.883781\n",
      "[2400]\tdtrain's multi_logloss: 0.445803\tdval's multi_logloss: 0.882407\n",
      "[2450]\tdtrain's multi_logloss: 0.437588\tdval's multi_logloss: 0.881492\n",
      "[2500]\tdtrain's multi_logloss: 0.429784\tdval's multi_logloss: 0.881124\n",
      "[2550]\tdtrain's multi_logloss: 0.422354\tdval's multi_logloss: 0.880043\n",
      "[2600]\tdtrain's multi_logloss: 0.415086\tdval's multi_logloss: 0.878672\n",
      "[2650]\tdtrain's multi_logloss: 0.407836\tdval's multi_logloss: 0.878221\n",
      "[2700]\tdtrain's multi_logloss: 0.40069\tdval's multi_logloss: 0.876978\n",
      "[2750]\tdtrain's multi_logloss: 0.393235\tdval's multi_logloss: 0.876903\n",
      "[2800]\tdtrain's multi_logloss: 0.386109\tdval's multi_logloss: 0.875811\n",
      "[2850]\tdtrain's multi_logloss: 0.379853\tdval's multi_logloss: 0.874549\n",
      "[2900]\tdtrain's multi_logloss: 0.373281\tdval's multi_logloss: 0.873639\n",
      "[2950]\tdtrain's multi_logloss: 0.366939\tdval's multi_logloss: 0.873035\n",
      "[3000]\tdtrain's multi_logloss: 0.360757\tdval's multi_logloss: 0.872315\n",
      "0.872315310216\n"
     ]
    },
    {
     "data": {
      "text/plain": [
       "0.8460534879148621"
      ]
     },
     "execution_count": 84,
     "metadata": {},
     "output_type": "execute_result"
    }
   ],
   "source": [
    "denom = 0\n",
    "fold = 5 #Change to 5, 1 for Kaggle Limits\n",
    "scores = []\n",
    "for i in range(fold):\n",
    "\n",
    "    params = {'task': 'train',\n",
    "        'boosting_type': 'gbdt',\n",
    "        'objective': 'multiclass',\n",
    "        'num_class': 9,\n",
    "        'metric': {'multi_logloss'},\n",
    "        'learning_rate': 0.005, \n",
    "        'max_depth': 4,\n",
    "        'num_iterations': 3000, \n",
    "        'num_leaves': 55, \n",
    "        'min_data_in_leaf': 66, \n",
    "        'lambda_l2': 1.0,\n",
    "        'feature_fraction': 0.8, \n",
    "        'bagging_fraction': 0.8, \n",
    "        'bagging_freq': 5\n",
    "             }\n",
    "\n",
    "    x1, x2, y1, y2 = model_selection.train_test_split(train2, y, test_size=0.18, random_state=i)\n",
    "\n",
    "    d_train = lgm.Dataset(x1, label=y1)\n",
    "    d_val = lgm.Dataset(x2, label=y2)\n",
    "\n",
    "    model = lgm.train(params, train_set=d_train, num_boost_round=1000,\n",
    "                   valid_sets=[d_train,d_val], valid_names=['dtrain','dval'], verbose_eval=50,\n",
    "                   early_stopping_rounds=50)\n",
    "    \n",
    "    score1 = metrics.log_loss(y2, model.predict(x2), labels = list(range(9)))\n",
    "    print(score1)\n",
    "    scores.append(score1)\n",
    "    if denom != 0:\n",
    "        pred = model.predict(test2)\n",
    "        preds += pred\n",
    "    else:\n",
    "        pred = model.predict(test2)\n",
    "        preds = pred.copy()\n",
    "    denom += 1\n",
    "    submission = pd.DataFrame(pred, columns=['class'+str(c+1) for c in range(9)])\n",
    "    submission['ID'] = pid\n",
    "pd.Series(scores).mean()"
   ]
  },
  {
   "cell_type": "code",
   "execution_count": 87,
   "metadata": {
    "collapsed": false
   },
   "outputs": [],
   "source": [
    "preds /= denom\n",
    "submission = pd.DataFrame(preds, columns=['class'+str(c+1) for c in range(9)])\n",
    "submission['ID'] = pid\n",
    "a = submission.iloc[:,:-1].sum(axis=1)\n",
    "assert int(a.sum()) ==test.shape[0]\n",
    "submission.to_csv('/dnbusr1/liuc/code/submission_xgb21.csv', index=False)"
   ]
  },
  {
   "cell_type": "code",
   "execution_count": null,
   "metadata": {
    "collapsed": true
   },
   "outputs": [],
   "source": [
    "# 0.8460534879148621 --21"
   ]
  },
  {
   "cell_type": "code",
   "execution_count": 183,
   "metadata": {
    "collapsed": true
   },
   "outputs": [],
   "source": [
    "\n",
    "params = {\n",
    "    'learning_rate': 0.0333,\n",
    "    'max_depth': 4,\n",
    "    'application': 'multiclass',\n",
    "    'metric': 'mlogloss',\n",
    "    'num_class': 9,\n",
    "    'seed': i,\n",
    "    #'silent': True\n",
    "}\n"
   ]
  },
  {
   "cell_type": "code",
   "execution_count": 168,
   "metadata": {
    "collapsed": false
   },
   "outputs": [],
   "source": [
    "watchlist = [(lgm.Dataset(x1, label = y1), 'train'), (lgm.Dataset(x2, label =y2), 'valid')]"
   ]
  },
  {
   "cell_type": "code",
   "execution_count": 95,
   "metadata": {
    "_cell_guid": "88b50cd2-2cb3-41d7-a6a9-b9b886560d72",
    "_uuid": "40b283dd205c51a7111ec72e56c6e6409a72eb2d",
    "collapsed": false,
    "scrolled": true
   },
   "outputs": [],
   "source": [
    "\n",
    "if work_env == 1:\n",
    "    import sys\n",
    "    sys.path.append('/data1/pypackages_cris/lib/python2.7/site-packages')\n",
    "    import matplotlib\n",
    "    matplotlib.use('Agg')\n",
    "import matplotlib.pyplot as plt\n",
    "    \n",
    "\n",
    "    \n",
    "%matplotlib inline\n",
    "import seaborn as sns\n",
    "plt.rcParams['figure.figsize'] = (7.0, 7.0)\n"
   ]
  },
  {
   "cell_type": "code",
   "execution_count": 463,
   "metadata": {
    "collapsed": false
   },
   "outputs": [
    {
     "data": {
      "text/plain": [
       "615"
      ]
     },
     "execution_count": 463,
     "metadata": {},
     "output_type": "execute_result"
    }
   ],
   "source": [
    "Feature_names = {}\n",
    "Feature_names['1_standard']=df_all.drop(['Gene', 'Variation','ID','Text'],1).columns.values\n",
    "v1 = fp.named_steps['union'].transformer_list[1][1].steps[-1][1].n_components\n",
    "Feature_names['pi1'] = ['count_Gene_svd' + str(i) for i in range(v1)]\n",
    "v2 = fp.named_steps['union'].transformer_list[2][1].steps[-1][1].n_components\n",
    "Feature_names['pi2'] = ['count_Variation_svd' + str(i) for i in range(v2)]\n",
    "v3 = fp.named_steps['union'].transformer_list[3][1].steps[-1][1].n_components\n",
    "Feature_names['pi3'] = ['text_tfidf_svd' + str(i) for i in range(v3)]\n",
    "v4 =  Gene_dict_occur_svd_train.shape[1]\n",
    "Feature_names['pi4'] = ['Gene_dict_occur_svd' + str(i) for i in range(v4)]\n",
    "#v5 =  GV_in_text.shape[1]\n",
    "v5 =  GV_in_text_svd.shape[1]\n",
    "Feature_names['pi5'] = ['GV_in_text_svd' + str(i) for i in range(v5)]\n",
    "v6 = text_train_arrays.shape[1]\n",
    "Feature_names['pi6'] = ['word2vec' + str(i) for i in range(v6)]\n",
    "\n",
    "feature_name=[]\n",
    "for i,j in Feature_names.iteritems():\n",
    "    feature_name.extend(j)\n",
    "len(feature_name)  "
   ]
  },
  {
   "cell_type": "code",
   "execution_count": 464,
   "metadata": {
    "collapsed": false
   },
   "outputs": [],
   "source": [
    "#feature_rename = {'f'+str(i) : feature_name[i] for i in range(len(feature_name))}\n",
    "feature_rename = {i : feature_name[i] for i in range(len(feature_name))}"
   ]
  },
  {
   "cell_type": "code",
   "execution_count": 465,
   "metadata": {
    "collapsed": true
   },
   "outputs": [],
   "source": [
    "def get_xgb_imp1(model,feature_names,keep_all = True):\n",
    "    a = pd.DataFrame(model.get_score( importance_type='gain').items())\n",
    "    \n",
    "    a.columns = ['feature','importance']\n",
    "    #a.feature = a.feature.map(feature_rename)\n",
    "    a.feature = a.feature.map(lambda x:feature_name[int(x)])\n",
    "    a  = a.set_index(a.feature,drop = True)\n",
    "    a = a.drop('feature',1)\n",
    "    b = pd.Series(np.zeros(len(feature_names)))\n",
    "    b.index = feature_names\n",
    "    if keep_all ==True:\n",
    "        c = a.importance+b\n",
    "    else:\n",
    "        c = a.importance\n",
    "    c = c.sort_values(ascending=False)\n",
    "    \n",
    "        \n",
    "    return c"
   ]
  },
  {
   "cell_type": "code",
   "execution_count": 466,
   "metadata": {
    "collapsed": true
   },
   "outputs": [],
   "source": [
    "def get_xgb_imp2(model,feature_name,keep_all = True):\n",
    "    a1 = np.array(model.feature_importance('gain'))\n",
    "    a2 = np.array(feature_name)\n",
    "    a = np.vstack([a1,a2]).T\n",
    "    a = pd.DataFrame(a)\n",
    "    a.columns = ['importance','feature']\n",
    "    a  = a.set_index(a.feature,drop = True)\n",
    "    a = a.drop('feature',1)\n",
    "    c = a.sort_values(ascending=False,by='importance').squeeze()\n",
    "    \n",
    "        \n",
    "    return c"
   ]
  },
  {
   "cell_type": "code",
   "execution_count": 392,
   "metadata": {
    "collapsed": true
   },
   "outputs": [
    {
     "ename": "AttributeError",
     "evalue": "'Booster' object has no attribute 'get_score'",
     "output_type": "error",
     "traceback": [
      "\u001b[1;31m---------------------------------------------------------------------------\u001b[0m",
      "\u001b[1;31mAttributeError\u001b[0m                            Traceback (most recent call last)",
      "\u001b[1;32m<ipython-input-392-93409199da80>\u001b[0m in \u001b[0;36m<module>\u001b[1;34m()\u001b[0m\n\u001b[1;32m----> 1\u001b[1;33m \u001b[0md\u001b[0m \u001b[1;33m=\u001b[0m \u001b[0mget_xgb_imp1\u001b[0m\u001b[1;33m(\u001b[0m\u001b[0mmodel\u001b[0m\u001b[1;33m,\u001b[0m\u001b[0mfeature_name\u001b[0m\u001b[1;33m,\u001b[0m\u001b[0mTrue\u001b[0m\u001b[1;33m)\u001b[0m\u001b[1;33m\u001b[0m\u001b[0m\n\u001b[0m\u001b[0;32m      2\u001b[0m \u001b[0md\u001b[0m\u001b[1;33m/\u001b[0m\u001b[0md\u001b[0m\u001b[1;33m.\u001b[0m\u001b[0msum\u001b[0m\u001b[1;33m(\u001b[0m\u001b[1;33m)\u001b[0m\u001b[1;33m\u001b[0m\u001b[0m\n",
      "\u001b[1;32m<ipython-input-391-c14a8d4371a9>\u001b[0m in \u001b[0;36mget_xgb_imp1\u001b[1;34m(model, feature_names, keep_all)\u001b[0m\n\u001b[0;32m      1\u001b[0m \u001b[1;32mdef\u001b[0m \u001b[0mget_xgb_imp1\u001b[0m\u001b[1;33m(\u001b[0m\u001b[0mmodel\u001b[0m\u001b[1;33m,\u001b[0m\u001b[0mfeature_names\u001b[0m\u001b[1;33m,\u001b[0m\u001b[0mkeep_all\u001b[0m \u001b[1;33m=\u001b[0m \u001b[0mTrue\u001b[0m\u001b[1;33m)\u001b[0m\u001b[1;33m:\u001b[0m\u001b[1;33m\u001b[0m\u001b[0m\n\u001b[1;32m----> 2\u001b[1;33m     \u001b[0ma\u001b[0m \u001b[1;33m=\u001b[0m \u001b[0mpd\u001b[0m\u001b[1;33m.\u001b[0m\u001b[0mDataFrame\u001b[0m\u001b[1;33m(\u001b[0m\u001b[0mmodel\u001b[0m\u001b[1;33m.\u001b[0m\u001b[0mget_score\u001b[0m\u001b[1;33m(\u001b[0m \u001b[0mimportance_type\u001b[0m\u001b[1;33m=\u001b[0m\u001b[1;34m'gain'\u001b[0m\u001b[1;33m)\u001b[0m\u001b[1;33m.\u001b[0m\u001b[0mitems\u001b[0m\u001b[1;33m(\u001b[0m\u001b[1;33m)\u001b[0m\u001b[1;33m)\u001b[0m\u001b[1;33m\u001b[0m\u001b[0m\n\u001b[0m\u001b[0;32m      3\u001b[0m \u001b[1;33m\u001b[0m\u001b[0m\n\u001b[0;32m      4\u001b[0m     \u001b[0ma\u001b[0m\u001b[1;33m.\u001b[0m\u001b[0mcolumns\u001b[0m \u001b[1;33m=\u001b[0m \u001b[1;33m[\u001b[0m\u001b[1;34m'feature'\u001b[0m\u001b[1;33m,\u001b[0m\u001b[1;34m'importance'\u001b[0m\u001b[1;33m]\u001b[0m\u001b[1;33m\u001b[0m\u001b[0m\n\u001b[0;32m      5\u001b[0m     \u001b[1;31m#a.feature = a.feature.map(feature_rename)\u001b[0m\u001b[1;33m\u001b[0m\u001b[1;33m\u001b[0m\u001b[0m\n",
      "\u001b[1;31mAttributeError\u001b[0m: 'Booster' object has no attribute 'get_score'"
     ]
    }
   ],
   "source": [
    "d = get_xgb_imp1(model,feature_name,True)\n",
    "d/d.sum()"
   ]
  },
  {
   "cell_type": "code",
   "execution_count": 467,
   "metadata": {
    "collapsed": true
   },
   "outputs": [
    {
     "data": {
      "text/plain": [
       "feature\n",
       "text_tfidf_svd17         0.002411\n",
       "count_Gene_svd15         0.002403\n",
       "word2vec51               0.002401\n",
       "count_Variation_svd0     0.002400\n",
       "count_Variation_svd18    0.002393\n",
       "Gene_dict_occur_svd40    0.002381\n",
       "word2vec262              0.002356\n",
       "word2vec105              0.002328\n",
       "word2vec163              0.002326\n",
       "Gene_dict_occur_svd3     0.002297\n",
       "Gene_dict_occur_svd72    0.002288\n",
       "count_Variation_svd4     0.002270\n",
       "word2vec117              0.002266\n",
       "word2vec5                0.002240\n",
       "GV_in_text_svd27         0.002212\n",
       "Gene_dict_occur_svd7     0.002199\n",
       "Gene_dict_occur_svd1     0.002196\n",
       "word2vec19               0.002180\n",
       "Gene_dict_occur_svd59    0.002179\n",
       "count_Variation_svd14    0.002173\n",
       "Gene_dict_occur_svd14    0.002167\n",
       "Gene_dict_occur_svd79    0.002163\n",
       "count_Gene_svd19         0.000215\n",
       "text_tfidf_svd18         0.002129\n",
       "GV_in_text_svd30         0.002129\n",
       "Gene_dict_occur_svd55    0.002128\n",
       "Gene_dict_occur_svd99    0.002124\n",
       "text_tfidf_svd45         0.002122\n",
       "count_Gene_svd12         0.002121\n",
       "Gene_dict_occur_svd34    0.002117\n",
       "                           ...   \n",
       "Variation12              0.000000\n",
       "Variation21              0.000000\n",
       "Variation13              0.000000\n",
       "Variation14              0.000000\n",
       "Variation31              0.000000\n",
       "Variation11              0.000000\n",
       "Variation4               0.000000\n",
       "Variation33              0.000000\n",
       "Variation0               0.000000\n",
       "Variation1               0.000000\n",
       "Variation34              0.000000\n",
       "Variation18              0.000000\n",
       "Variation35              0.000000\n",
       "Variation38              0.000000\n",
       "Variation2               0.000000\n",
       "Variation30              0.000000\n",
       "Variation3               0.000000\n",
       "Variation29              0.000000\n",
       "Variation10              0.000000\n",
       "Variation28              0.000000\n",
       "Variation5               0.000000\n",
       "Variation27              0.000000\n",
       "Variation26              0.000000\n",
       "Variation6               0.000000\n",
       "Variation32              0.000000\n",
       "Variation8               0.000000\n",
       "Variation25              0.000000\n",
       "Variation24              0.000000\n",
       "Variation9               0.000000\n",
       "Variation7               0.000000\n",
       "Name: importance, Length: 615, dtype: float64"
      ]
     },
     "execution_count": 467,
     "metadata": {},
     "output_type": "execute_result"
    }
   ],
   "source": [
    "\n",
    "d = get_xgb_imp2(model,feature_name,True).astype(float)\n",
    "d/d.sum()"
   ]
  },
  {
   "cell_type": "code",
   "execution_count": 468,
   "metadata": {
    "collapsed": false
   },
   "outputs": [
    {
     "name": "stdout",
     "output_type": "stream",
     "text": [
      "('Total of count_Gene_svd:', 0.04379835007643775)\n",
      "('Total of count_Variation_svd:', 0.04752341385050742)\n",
      "('Total of text_tfidf_svd:', 0.20483077103154995)\n",
      "('Total of Gene_dict_occur_svd:', 0.13752808799741686)\n",
      "('Total of GV_in_text_svd:', 0.09514828793540978)\n",
      "('Total of word2vec:', 0.36250768972144704)\n",
      "('Total of others:', 0.10866339938723073)\n"
     ]
    }
   ],
   "source": [
    "print('Total of count_Gene_svd:' ,d[Feature_names['pi1']].sum()/d.sum())\n",
    "print('Total of count_Variation_svd:' ,d[Feature_names['pi2']].sum()/d.sum())\n",
    "print('Total of text_tfidf_svd:' ,d[Feature_names['pi3']].sum()/d.sum())\n",
    "print('Total of Gene_dict_occur_svd:' ,d[Feature_names['pi4']].sum()/d.sum())\n",
    "print('Total of GV_in_text_svd:' ,d[Feature_names['pi5']].sum()/d.sum())\n",
    "print('Total of word2vec:' ,d[Feature_names['pi6']].sum()/d.sum())\n",
    "print('Total of others:' ,d[Feature_names['1_standard']].sum()/d.sum())"
   ]
  },
  {
   "cell_type": "code",
   "execution_count": 453,
   "metadata": {
    "collapsed": false
   },
   "outputs": [
    {
     "ename": "KeyError",
     "evalue": "'standard'",
     "output_type": "error",
     "traceback": [
      "\u001b[1;31m---------------------------------------------------------------------------\u001b[0m",
      "\u001b[1;31mKeyError\u001b[0m                                  Traceback (most recent call last)",
      "\u001b[1;32m<ipython-input-453-c20e9d2efb1a>\u001b[0m in \u001b[0;36m<module>\u001b[1;34m()\u001b[0m\n\u001b[1;32m----> 1\u001b[1;33m \u001b[1;33m(\u001b[0m\u001b[0md\u001b[0m\u001b[1;33m[\u001b[0m\u001b[0mFeature_names\u001b[0m\u001b[1;33m[\u001b[0m\u001b[1;34m'standard'\u001b[0m\u001b[1;33m]\u001b[0m\u001b[1;33m]\u001b[0m\u001b[1;33m/\u001b[0m\u001b[0md\u001b[0m\u001b[1;33m.\u001b[0m\u001b[0msum\u001b[0m\u001b[1;33m(\u001b[0m\u001b[1;33m)\u001b[0m\u001b[1;33m)\u001b[0m\u001b[1;33m.\u001b[0m\u001b[0msort_values\u001b[0m\u001b[1;33m(\u001b[0m\u001b[0mascending\u001b[0m\u001b[1;33m=\u001b[0m\u001b[0mFalse\u001b[0m\u001b[1;33m)\u001b[0m\u001b[1;33m\u001b[0m\u001b[0m\n\u001b[0m",
      "\u001b[1;31mKeyError\u001b[0m: 'standard'"
     ]
    }
   ],
   "source": [
    "(d[Feature_names['standard']]/d.sum()).sort_values(ascending=False)"
   ]
  },
  {
   "cell_type": "code",
   "execution_count": 133,
   "metadata": {
    "collapsed": false
   },
   "outputs": [
    {
     "data": {
      "text/plain": [
       "array(['Gene_Share', 'Variation_Share', 'Gene_0', 'Gene_1', 'Gene_2',\n",
       "       'Gene_3', 'Gene_4', 'Gene_5', 'Gene_6', 'Gene_7', 'Gene_8',\n",
       "       'Variation0', 'Variation1', 'Variation2', 'Variation3',\n",
       "       'Variation4', 'Variation5', 'Variation6', 'Variation7',\n",
       "       'Variation8', 'Variation9', 'Variation10', 'Variation11',\n",
       "       'Variation12', 'Variation13', 'Variation14', 'Variation15',\n",
       "       'Variation16', 'Variation17', 'Variation18', 'Variation19',\n",
       "       'Variation20', 'Variation21', 'Variation22', 'Variation23',\n",
       "       'Variation24', 'Variation25', 'Variation26', 'Variation27',\n",
       "       'Variation28', 'Variation29', 'Variation30', 'Variation31',\n",
       "       'Variation32', 'Variation33', 'Variation34', 'Variation35',\n",
       "       'Variation36', 'Variation37', 'Variation38', 'Variation39',\n",
       "       'Variation40', 'Variation41', 'Variation42', 'Variation43',\n",
       "       'Variation44', 'Variation45', 'Variation46', 'Variation47',\n",
       "       'Variation48', 'Variation49', 'Variation50', 'Variation51',\n",
       "       'Variation52', 'Variation53', 'Variation54', 'Variation55',\n",
       "       'GV_1_2009trunc', 'GV_2010_2471trunc', 'GV_256_286trunc',\n",
       "       'GV_385_418del', 'GV_422_605trunc', 'GV_533_534del',\n",
       "       'GV_534_536del', 'GV_550_592del', 'GV_560_561insER',\n",
       "       'GV_596_619splice', 'GV_963_D1010splice', 'GV_981_1028splice',\n",
       "       'GV_A1020V', 'GV_A1022E', 'GV_A1065T', 'GV_A1066V', 'GV_A1099T',\n",
       "       'GV_A111P', 'GV_A1131T', 'GV_A113_splice', 'GV_A1170V',\n",
       "       'GV_A11_G12insGA', 'GV_A1200V', 'GV_A120S', 'GV_A121E', 'GV_A121P',\n",
       "       'GV_A121V', 'GV_A122*', 'GV_A1234T', 'GV_A126D', 'GV_A126G',\n",
       "       'GV_A126S', 'GV_A126V'], dtype=object)"
      ]
     },
     "execution_count": 133,
     "metadata": {},
     "output_type": "execute_result"
    }
   ],
   "source": [
    "Feature_names['1_standard'][:100]"
   ]
  },
  {
   "cell_type": "code",
   "execution_count": null,
   "metadata": {
    "collapsed": true
   },
   "outputs": [],
   "source": [
    "Feature_names['pi4'] = ['Gene_dict_occur_svd' + str(i) for i in range(v4)]\n",
    "v5 =  GV_in_text.shape[1]\n",
    "Feature_names['pi5'] = ['GV_in_text_svd' + str(i) for i in range(v5)]\n",
    "v6 = text_train_arrays.shape[1]\n",
    "Feature_names['pi6'] = ['word2vec' + str(i) for i in range(v6)]"
   ]
  }
 ],
 "metadata": {
  "kernelspec": {
   "display_name": "Python 2",
   "language": "python",
   "name": "python2"
  },
  "language_info": {
   "codemirror_mode": {
    "name": "ipython",
    "version": 2
   },
   "file_extension": ".py",
   "mimetype": "text/x-python",
   "name": "python",
   "nbconvert_exporter": "python",
   "pygments_lexer": "ipython2",
   "version": "2.7.11"
  }
 },
 "nbformat": 4,
 "nbformat_minor": 1
}
