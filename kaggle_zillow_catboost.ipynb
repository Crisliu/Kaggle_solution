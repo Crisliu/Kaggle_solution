{
 "cells": [
  {
   "cell_type": "code",
   "execution_count": 1,
   "metadata": {
    "_cell_guid": "108ffce0-be8a-4bbb-8187-29c2d5033a38",
    "_uuid": "f9b1385f271c5e6419532bd6e22605be60a2d655",
    "collapsed": false
   },
   "outputs": [
    {
     "name": "stdout",
     "output_type": "stream",
     "text": [
      "Gene_dict_occur.npy\n",
      "Gene_dict_occur.npz\n",
      "GV_in_text.csv\n",
      "GV_in_text.npz\n",
      "kaggle_train.csv\n",
      "properties_2016.csv\n",
      "properties_2017.csv\n",
      "quora_sample_submission.csv\n",
      "quora_train.csv\n",
      "sample_submission.csv\n",
      "stage1_solution_filtered.csv\n",
      "stage2_sample_submission.csv\n",
      "stage2_test_text.csv\n",
      "stage2_test_variants.csv\n",
      "submissionFile\n",
      "test.p\n",
      "test_variants\n",
      "text_test_arrays.npy\n",
      "text_train_arrays.npy\n",
      "Thesaurus.txt\n",
      "train_2016_v2.csv\n",
      "train_2017.csv\n",
      "training_text\n",
      "training_variants\n",
      "train.p\n",
      "zillow_data_dictionary.xlsx\n",
      "zillow_y_final.csv\n",
      "\n"
     ]
    }
   ],
   "source": [
    "# This Python 3 environment comes with many helpful analytics libraries installed\n",
    "# It is defined by the kaggle/python docker image: https://github.com/kaggle/docker-python\n",
    "# For example, here's several helpful packages to load in \n",
    "\n",
    "import numpy as np # linear algebra\n",
    "import pandas as pd # data processing, CSV file I/O (e.g. pd.read_csv)\n",
    "\n",
    "# Input data files are available in the \"../input/\" directory.\n",
    "# For example, running this (by clicking run or pressing Shift+Enter) will list the files in the input directory\n",
    "\n",
    "from subprocess import check_output\n",
    "print(check_output([\"ls\", \"../input\"]).decode(\"utf8\"))\n",
    "\n",
    "# Any results you write to the current directory are saved as output."
   ]
  },
  {
   "cell_type": "code",
   "execution_count": 2,
   "metadata": {
    "_cell_guid": "b3b89c30-5eb9-462a-bb79-14345fface48",
    "_uuid": "332dd65030c0906de96f37defef0665cf540a198",
    "collapsed": false
   },
   "outputs": [
    {
     "name": "stdout",
     "output_type": "stream",
     "text": [
      "Loading Properties ...\n",
      "Loading Train ...\n",
      "Loading Sample ...\n",
      "Merge Train with Properties ...\n",
      "Tax Features 2017  ...\n",
      "Concat Train 2016 & 2017 ...\n"
     ]
    }
   ],
   "source": [
    "import numpy as np # linear algebra\n",
    "import pandas as pd # data processing, CSV file I/O (e.g. pd.read_csv)\n",
    "from catboost import CatBoostRegressor\n",
    "from tqdm import tqdm\n",
    "import gc\n",
    "import datetime as dt\n",
    "\n",
    "print('Loading Properties ...')\n",
    "properties2016 = pd.read_csv('../input/properties_2016.csv', low_memory = False)\n",
    "properties2017 = pd.read_csv('../input/properties_2017.csv', low_memory = False)\n",
    "\n",
    "print('Loading Train ...')\n",
    "train2016 = pd.read_csv('../input/train_2016_v2.csv', parse_dates=['transactiondate'], low_memory=False)\n",
    "train2017 = pd.read_csv('../input/train_2017.csv', parse_dates=['transactiondate'], low_memory=False)\n",
    "\n",
    "def add_date_features(df):\n",
    "    df[\"transaction_year\"] = df[\"transactiondate\"].dt.year\n",
    "    df[\"transaction_month\"] = (df[\"transactiondate\"].dt.year - 2016)*12 + df[\"transactiondate\"].dt.month\n",
    "    #df[\"transaction_day\"] = df[\"transactiondate\"].dt.day\n",
    "    df[\"transaction_quarter\"] = (df[\"transactiondate\"].dt.year - 2016)*4 +df[\"transactiondate\"].dt.quarter\n",
    "    df.drop([\"transactiondate\"], inplace=True, axis=1)\n",
    "    return df\n",
    "\n",
    "train2016 = add_date_features(train2016)\n",
    "train2017 = add_date_features(train2017)\n",
    "\n",
    "print('Loading Sample ...')\n",
    "sample_submission = pd.read_csv('../input/sample_submission.csv', low_memory = False)\n",
    "\n",
    "print('Merge Train with Properties ...')\n",
    "train2016 = pd.merge(train2016, properties2016, how = 'left', on = 'parcelid')\n",
    "train2017 = pd.merge(train2017, properties2017, how = 'left', on = 'parcelid')\n",
    "\n",
    "print('Tax Features 2017  ...')\n",
    "#train2017.iloc[:, train2017.columns.str.startswith('tax')] = np.nan\n",
    "\n",
    "print('Concat Train 2016 & 2017 ...')\n",
    "train_df = pd.concat([train2016, train2017], axis = 0)\n",
    "test_df = pd.merge(sample_submission[['ParcelId']], properties2016.rename(columns = {'parcelid': 'ParcelId'}), how = 'left', on = 'ParcelId')\n",
    "\n",
    "del properties2016, properties2017, train2016, train2017\n",
    "gc.collect();"
   ]
  },
  {
   "cell_type": "code",
   "execution_count": 3,
   "metadata": {
    "collapsed": true
   },
   "outputs": [],
   "source": [
    "#Additional Feature\n",
    "def add_feature(input_):\n",
    "    output_ = pd.DataFrame()\n",
    "    #life of property\n",
    "    #output_['N-life'] = 2018 - input_['yearbuilt']\n",
    "\n",
    "    #error in calculation of the finished living area of home\n",
    "    output_['N-LivingAreaError'] = input_['calculatedfinishedsquarefeet']/input_['finishedsquarefeet12']\n",
    "\n",
    "    #proportion of living area\n",
    "    output_['N-LivingAreaProp'] = input_['calculatedfinishedsquarefeet']/input_['lotsizesquarefeet']\n",
    "    output_['N-LivingAreaProp2'] = input_['finishedsquarefeet12']/input_['finishedsquarefeet15']\n",
    "\n",
    "    #Amout of extra space\n",
    "    output_['N-ExtraSpace'] = input_['lotsizesquarefeet'] - input_['calculatedfinishedsquarefeet'] \n",
    "    output_['N-ExtraSpace-2'] = input_['finishedsquarefeet15'] - input_['finishedsquarefeet12'] \n",
    "\n",
    "    #Total number of rooms\n",
    "    output_['N-TotalRooms'] = input_['bathroomcnt']+input_['bedroomcnt']\n",
    "\n",
    "    #Average room size\n",
    "    output_['N-AvRoomSize'] = input_['calculatedfinishedsquarefeet']/output_['N-TotalRooms']\n",
    "\n",
    "    # Number of Extra rooms\n",
    "    output_['N-ExtraRooms'] =  output_['N-TotalRooms'] -input_['roomcnt']\n",
    "\n",
    "    #Ratio of the built structure value to land area\n",
    "    output_['N-ValueProp'] = input_['structuretaxvaluedollarcnt']/input_['landtaxvaluedollarcnt']\n",
    "\n",
    "    #Does property have a garage, pool or hot tub and AC?\n",
    "    output_['N-GarPoolAC'] = ((input_['garagecarcnt']>0) & (input_['pooltypeid10']>0) & (input_['airconditioningtypeid']!=5))*1 \n",
    "\n",
    "    output_[\"N-location\"] = input_[\"latitude\"] + input_[\"longitude\"]\n",
    "    output_[\"N-location-2\"] = input_[\"latitude\"]*input_[\"longitude\"]\n",
    "    #output_[\"N-location-2round\"] = output_[\"N-location-2\"].round(-4)\n",
    "\n",
    "    #output_[\"N-latitude-round\"] = input_[\"latitude\"].round(-4)\n",
    "    #output_[\"N-longitude-round\"] = input_[\"longitude\"].round(-4)\n",
    "\n",
    "    #Lets create additional features based off the tax related variables\n",
    "\n",
    "    #Ratio of tax of property over parcel\n",
    "    output_['N-ValueRatio'] = input_['taxvaluedollarcnt']/input_['taxamount']\n",
    "\n",
    "    #TotalTaxScore\n",
    "    output_['N-TaxScore'] = input_['taxvaluedollarcnt']*input_['taxamount']\n",
    "\n",
    "\n",
    "    #Length of time since unpaid taxes\n",
    "    #output_['N-life'] = 2018 - input_['taxdelinquencyyear']\n",
    "\n",
    "\n",
    "    #polnomials of tax delinquency year\n",
    "    #output_[\"N-taxdelinquencyyear-2\"] = output_['N-life'] ** 2\n",
    "    #output_[\"N-taxdelinquencyyear-3\"] =output_['N-life'] ** 3\n",
    "\n",
    "    #Other features based off the location\n",
    "    #Number of properties in the zip\n",
    "    #zip_count = input_['regionidzip'].value_counts().to_dict()\n",
    "    #output_['N-zip_count'] = input_['regionidzip'].map(zip_count)\n",
    "\n",
    "    #Number of properties in the city\n",
    "    #city_count = input_['regionidcity'].value_counts().to_dict()\n",
    "    #output_['N-city_count'] = input_['regionidcity'].map(city_count)\n",
    "\n",
    "    #Number of properties in the county\n",
    "    #region_count = input_['regionidcounty'].value_counts().to_dict()\n",
    "    #output_['N-county_count'] = input_['regionidcounty'].map(region_count)\n",
    "\n",
    "    # More features\n",
    "    # Mean square feet of neighborhood properties\n",
    "    #output_['mean_area'] = input_['regionidneighborhood'].map(meanarea)\n",
    "    # Median year of construction of neighborhood properties\n",
    "    #output_['med_year'] = input_['regionidneighborhood'].map(medyear)\n",
    "    # Neighborhood latitude and longitude\n",
    "    #output_['med_lat'] = input_['regionidneighborhood'].map(medlat)\n",
    "    #output_['med_long'] = input_['regionidneighborhood'].map(medlong)\n",
    "\n",
    "\n",
    "\n",
    "    #Indicator whether it has AC or not\n",
    "    #output_['N-ACInd'] = (input_['airconditioningtypeid']!=5)*1\n",
    "\n",
    "    #Indicator whether it has Heating or not \n",
    "    #output_['N-HeatInd'] = (input_['heatingorsystemtypeid']!=13)*1\n",
    "\n",
    "    #There's 25 different property uses - let's compress them down to 4 categories\n",
    "    output_['N-PropType'] = input_.propertylandusetypeid.replace({31 : \"Mixed\", 46 : \"Other\", 47 : \"Mixed\", \n",
    "                                                                     246 : \"Mixed\", 247 : \"Mixed\", 248 : \"Mixed\",\n",
    "                                                                     260 : \"Home\", 261 : \"Home\", 262 : \"Home\", \n",
    "                                                                     263 : \"Home\", 264 : \"Home\", 265 : \"Home\",\n",
    "                                                                     266 : \"Home\", 267 : \"Home\", 268 : \"Home\",\n",
    "                                                                     269 : \"Not Built\", 270 : \"Home\", 271 : \"Home\",\n",
    "                                                                     273 : \"Home\", 274 : \"Other\", 275 : \"Home\", \n",
    "                                                                     276 : \"Home\", 279 : \"Home\", 290 : \"Not Built\", \n",
    "                                                                     291 : \"Not Built\" })\n",
    "    #output_ = pd.concat([output_,pd.get_dummies(output_['N-PropType'])],1).drop(['N-PropType'],1)\n",
    "\n",
    "    #polnomials of the variable\n",
    "    #output_[\"N-structuretaxvaluedollarcnt-2\"] = input_[\"structuretaxvaluedollarcnt\"] ** 2\n",
    "    #output_[\"N-structuretaxvaluedollarcnt-3\"] = input_[\"structuretaxvaluedollarcnt\"] ** 3\n",
    "    #output_[\"N-structuretaxvaluedollarcnt-log\"] = np.log(input_[\"structuretaxvaluedollarcnt\"])\n",
    "    #Average structuretaxvaluedollarcnt by city\n",
    "    #group = input_.groupby('regionidcity')['structuretaxvaluedollarcnt'].aggregate('mean').to_dict()\n",
    "    #output_['N-Avg-structuretaxvaluedollarcnt'] = input_['regionidcity'].map(group)\n",
    "\n",
    "\n",
    "    #Deviation away from average\n",
    "    #output_['N-Dev-structuretaxvaluedollarcnt'] = abs((input_['structuretaxvaluedollarcnt'] - output_['N-Avg-structuretaxvaluedollarcnt']))/output_['N-Avg-structuretaxvaluedollarcnt']\n",
    "    return output_"
   ]
  },
  {
   "cell_type": "code",
   "execution_count": 4,
   "metadata": {
    "collapsed": false
   },
   "outputs": [
    {
     "data": {
      "text/plain": [
       "(167888, 77)"
      ]
     },
     "execution_count": 4,
     "metadata": {},
     "output_type": "execute_result"
    }
   ],
   "source": [
    "features1 = add_feature(train_df)\n",
    "train_df = pd.concat([train_df,features1],1)\n",
    "train_df.shape"
   ]
  },
  {
   "cell_type": "code",
   "execution_count": 5,
   "metadata": {
    "_cell_guid": "4a3e2f2b-2aee-48d6-9079-f1f180a9ba90",
    "_uuid": "8491038118631a4069f4abca2258073a5135428f",
    "collapsed": false
   },
   "outputs": [
    {
     "name": "stdout",
     "output_type": "stream",
     "text": [
      "Remove missing data fields ...\n",
      "We exclude: 15\n"
     ]
    }
   ],
   "source": [
    "print('Remove missing data fields ...')\n",
    "\n",
    "missing_perc_thresh = 0.98\n",
    "exclude_missing = []\n",
    "num_rows = train_df.shape[0]\n",
    "for c in train_df.columns:\n",
    "    num_missing = train_df[c].isnull().sum()\n",
    "    if num_missing == 0:\n",
    "        continue\n",
    "    missing_frac = num_missing / float(num_rows)\n",
    "    if missing_frac > missing_perc_thresh:\n",
    "        exclude_missing.append(c)\n",
    "print(\"We exclude: %s\" % len(exclude_missing))\n",
    "\n",
    "del num_rows, missing_perc_thresh\n",
    "gc.collect();"
   ]
  },
  {
   "cell_type": "code",
   "execution_count": 6,
   "metadata": {
    "_cell_guid": "1de0110d-6975-4f03-ad00-ba4168eb53e8",
    "_uuid": "b111e756333338dd417642cfdc03369349208fb1",
    "collapsed": false
   },
   "outputs": [
    {
     "name": "stdout",
     "output_type": "stream",
     "text": [
      "Remove features with one unique value !!\n",
      "We exclude: 10\n"
     ]
    }
   ],
   "source": [
    "print (\"Remove features with one unique value !!\")\n",
    "exclude_unique = []\n",
    "for c in train_df.columns:\n",
    "    num_uniques = len(train_df[c].unique())\n",
    "    if train_df[c].isnull().sum() != 0:\n",
    "        num_uniques -= 1\n",
    "    if num_uniques == 1:\n",
    "        exclude_unique.append(c)\n",
    "print(\"We exclude: %s\" % len(exclude_unique))"
   ]
  },
  {
   "cell_type": "code",
   "execution_count": 7,
   "metadata": {
    "_cell_guid": "d90d47db-977f-4268-b254-fca05bdbceb6",
    "_uuid": "b905e2b453baed4b15d6b2125c74d8e8942280af",
    "collapsed": false
   },
   "outputs": [
    {
     "name": "stdout",
     "output_type": "stream",
     "text": [
      "Define training features !!\n",
      "We use these for training: 54\n"
     ]
    }
   ],
   "source": [
    "print (\"Define training features !!\")\n",
    "exclude_other = ['parcelid', 'logerror','propertyzoningdesc']\n",
    "train_features = []\n",
    "for c in train_df.columns:\n",
    "    if c not in exclude_missing \\\n",
    "       and c not in exclude_other and c not in exclude_unique:\n",
    "        train_features.append(c)\n",
    "print(\"We use these for training: %s\" % len(train_features))"
   ]
  },
  {
   "cell_type": "code",
   "execution_count": 8,
   "metadata": {
    "_cell_guid": "3ba48af5-ed0f-4d6b-b779-2cc55bf76d6a",
    "_uuid": "72ce38d1ddf83fd97cccc80a426d139a74138970",
    "collapsed": false
   },
   "outputs": [
    {
     "name": "stdout",
     "output_type": "stream",
     "text": [
      "Define categorial features !!\n",
      "Cat features are: ['transaction_year', 'transaction_month', 'transaction_quarter', 'airconditioningtypeid', 'buildingqualitytypeid', 'fips', 'heatingorsystemtypeid', 'propertycountylandusecode', 'propertylandusetypeid', 'regionidcity', 'regionidcounty', 'regionidneighborhood', 'regionidzip', 'yearbuilt', 'assessmentyear', 'taxdelinquencyyear', 'N-PropType']\n"
     ]
    }
   ],
   "source": [
    "print (\"Define categorial features !!\")\n",
    "cat_feature_inds = []\n",
    "cat_unique_thresh = 1000\n",
    "train_features.remove('N-TotalRooms') \n",
    "train_features.remove('N-ExtraRooms') \n",
    "train_features.remove('N-GarPoolAC') \n",
    "for i, c in enumerate(train_features):\n",
    "    num_uniques = len(train_df[c].unique())\n",
    "    if num_uniques < cat_unique_thresh \\\n",
    "       and not 'sqft' in c \\\n",
    "       and not 'cnt' in c \\\n",
    "       and not 'nbr' in c \\\n",
    "       and not 'number' in c:\n",
    "        cat_feature_inds.append(i)\n",
    "\n",
    "'', '', ''     \n",
    "print(\"Cat features are: %s\" % [train_features[ind] for ind in cat_feature_inds])"
   ]
  },
  {
   "cell_type": "code",
   "execution_count": 9,
   "metadata": {
    "_cell_guid": "d7b2ad11-6504-4cdd-9c3e-4037509ff4fa",
    "_uuid": "97528b8df561bd3c8e7dc57b7f84f59e4391eed3",
    "collapsed": false
   },
   "outputs": [
    {
     "name": "stdout",
     "output_type": "stream",
     "text": [
      "Replacing NaN values by -999 !!\n"
     ]
    }
   ],
   "source": [
    "print (\"Replacing NaN values by -999 !!\")\n",
    "train_df.fillna(-999, inplace=True)\n",
    "test_df.fillna(-999, inplace=True)"
   ]
  },
  {
   "cell_type": "code",
   "execution_count": 10,
   "metadata": {
    "_cell_guid": "b40d7ee2-34de-4af2-b2aa-300c58bef6fe",
    "_uuid": "24873c2f476650b939dc8b939068bd2ce4818913",
    "collapsed": false
   },
   "outputs": [
    {
     "name": "stdout",
     "output_type": "stream",
     "text": [
      "Training time !!\n",
      "((167888, 51), (167888,))\n",
      "(2985217, 51)\n"
     ]
    }
   ],
   "source": [
    "from sklearn.metrics import mean_absolute_error\n",
    "print (\"Training time !!\")\n",
    "X_train = train_df[train_features]\n",
    "y_train = train_df.logerror\n",
    "print(X_train.shape, y_train.shape)\n",
    "\n",
    "test_df['transactiondate'] = pd.Timestamp('2016-12-01') \n",
    "test_df = add_date_features(test_df)\n",
    "features1 = add_feature(test_df)\n",
    "test_df = pd.concat([test_df,features1],1)\n",
    "X_test = test_df[train_features]\n",
    "print(X_test.shape)"
   ]
  },
  {
   "cell_type": "code",
   "execution_count": 11,
   "metadata": {
    "_uuid": "e7e93087d8ff7278dec99a24a696f686ad9a0927",
    "collapsed": true
   },
   "outputs": [],
   "source": [
    "submission = pd.DataFrame({\n",
    "    'ParcelId': test_df['ParcelId'],\n",
    "})\n",
    "test_dates = {\n",
    "    '201610': pd.Timestamp('2016-09-30'),\n",
    "    '201611': pd.Timestamp('2016-10-31'),\n",
    "    '201612': pd.Timestamp('2016-11-30'),\n",
    "    '201710': pd.Timestamp('2017-09-30'),\n",
    "    '201711': pd.Timestamp('2017-10-31'),\n",
    "    '201712': pd.Timestamp('2017-11-30')\n",
    "}\n",
    "\n",
    "    "
   ]
  },
  {
   "cell_type": "code",
   "execution_count": null,
   "metadata": {
    "collapsed": false
   },
   "outputs": [
    {
     "name": "stderr",
     "output_type": "stream",
     "text": [
      "  5%|▌         | 1/20 [05:02<1:35:42, 302.23s/it]"
     ]
    },
    {
     "name": "stdout",
     "output_type": "stream",
     "text": [
      "0.0662118834048\n"
     ]
    },
    {
     "name": "stderr",
     "output_type": "stream",
     "text": [
      "\r",
      " 10%|█         | 2/20 [10:05<1:30:46, 302.61s/it]"
     ]
    },
    {
     "name": "stdout",
     "output_type": "stream",
     "text": [
      "0.0661868840605\n"
     ]
    },
    {
     "name": "stderr",
     "output_type": "stream",
     "text": [
      "\r",
      " 15%|█▌        | 3/20 [15:07<1:25:40, 302.41s/it]"
     ]
    },
    {
     "name": "stdout",
     "output_type": "stream",
     "text": [
      "0.0661563893706\n"
     ]
    },
    {
     "name": "stderr",
     "output_type": "stream",
     "text": [
      "\r",
      " 20%|██        | 4/20 [20:07<1:20:25, 301.57s/it]"
     ]
    },
    {
     "name": "stdout",
     "output_type": "stream",
     "text": [
      "0.0660733065991\n"
     ]
    },
    {
     "name": "stderr",
     "output_type": "stream",
     "text": [
      "\r",
      " 25%|██▌       | 5/20 [25:08<1:15:21, 301.44s/it]"
     ]
    },
    {
     "name": "stdout",
     "output_type": "stream",
     "text": [
      "0.066112166828\n"
     ]
    },
    {
     "name": "stderr",
     "output_type": "stream",
     "text": [
      "\r",
      " 30%|███       | 6/20 [30:10<1:10:23, 301.71s/it]"
     ]
    },
    {
     "name": "stdout",
     "output_type": "stream",
     "text": [
      "0.066046387818\n"
     ]
    }
   ],
   "source": [
    "models = []\n",
    "num_ensembles = 20\n",
    "y_pred = 0.0\n",
    "for i in tqdm(range(num_ensembles)):\n",
    "    i = i + 5\n",
    "    model = CatBoostRegressor(\n",
    "        iterations=2000, learning_rate=0.01,\n",
    "        depth=6, l2_leaf_reg=3,\n",
    "        loss_function='MAE',\n",
    "        eval_metric='MAE',\n",
    "        thread_count=24,\n",
    "        random_seed=i)\n",
    "    model.fit(\n",
    "        X_train, y_train,\n",
    "        cat_features=cat_feature_inds)\n",
    "    print(mean_absolute_error(model.predict(X_train),y_train))\n",
    "    models.append(model)"
   ]
  },
  {
   "cell_type": "code",
   "execution_count": null,
   "metadata": {
    "collapsed": false
   },
   "outputs": [],
   "source": [
    "y_pred = 0\n",
    "test_df['transactiondate'] = pd.Timestamp('2016-12-01') \n",
    "test_df = add_date_features(test_df)\n",
    "X_test = test_df[train_features]\n",
    "for model in models:\n",
    "    y_pred += model.predict(X_test)\n",
    "y_pred /= num_ensembles\n",
    "\n",
    "for label, test_date in test_dates.items():   \n",
    "    print(\"Predicting for: %s ... \" % (label))    \n",
    "    submission[label] = y_pred"
   ]
  },
  {
   "cell_type": "code",
   "execution_count": 17,
   "metadata": {
    "collapsed": false
   },
   "outputs": [
    {
     "data": {
      "text/plain": [
       "ParcelId    1.332586e+07\n",
       "201612      1.267057e-02\n",
       "201610      1.267057e-02\n",
       "201611      1.267057e-02\n",
       "201712      1.267057e-02\n",
       "201711      1.267057e-02\n",
       "201710      1.267057e-02\n",
       "dtype: float64"
      ]
     },
     "execution_count": 17,
     "metadata": {},
     "output_type": "execute_result"
    }
   ],
   "source": [
    "submission.mean()"
   ]
  },
  {
   "cell_type": "code",
   "execution_count": 13,
   "metadata": {
    "_cell_guid": "e33c338e-34c2-4b04-b31a-0e4ade1c1785",
    "_uuid": "54cf74e112317e4b8a7b827e57d40571ca676ee6",
    "collapsed": true
   },
   "outputs": [
    {
     "name": "stdout",
     "output_type": "stream",
     "text": [
      "Predicting for: 201612 ... \n",
      "Predicting for: 201610 ... \n"
     ]
    },
    {
     "ename": "KeyboardInterrupt",
     "evalue": "",
     "output_type": "error",
     "traceback": [
      "\u001b[1;31m---------------------------------------------------------------------------\u001b[0m",
      "\u001b[1;31mKeyboardInterrupt\u001b[0m                         Traceback (most recent call last)",
      "\u001b[1;32m<ipython-input-13-6627c11acbea>\u001b[0m in \u001b[0;36m<module>\u001b[1;34m()\u001b[0m\n\u001b[0;32m      9\u001b[0m     \u001b[1;32mfor\u001b[0m \u001b[0mmodel\u001b[0m \u001b[1;32min\u001b[0m \u001b[0mmodels\u001b[0m\u001b[1;33m:\u001b[0m\u001b[1;33m\u001b[0m\u001b[0m\n\u001b[0;32m     10\u001b[0m \u001b[1;33m\u001b[0m\u001b[0m\n\u001b[1;32m---> 11\u001b[1;33m         \u001b[0my_pred\u001b[0m \u001b[1;33m+=\u001b[0m \u001b[0mmodel\u001b[0m\u001b[1;33m.\u001b[0m\u001b[0mpredict\u001b[0m\u001b[1;33m(\u001b[0m\u001b[0mX_test\u001b[0m\u001b[1;33m)\u001b[0m\u001b[1;33m\u001b[0m\u001b[0m\n\u001b[0m\u001b[0;32m     12\u001b[0m     \u001b[0my_pred\u001b[0m \u001b[1;33m/=\u001b[0m \u001b[0mnum_ensembles\u001b[0m\u001b[1;33m\u001b[0m\u001b[0m\n\u001b[0;32m     13\u001b[0m     \u001b[1;31m#_preds[test_date] = y_pred\u001b[0m\u001b[1;33m\u001b[0m\u001b[1;33m\u001b[0m\u001b[0m\n",
      "\u001b[1;32m/PythonApp/anaconda1/lib/python2.7/site-packages/catboost/core.pyc\u001b[0m in \u001b[0;36mpredict\u001b[1;34m(self, data, weight, ntree_start, ntree_end, thread_count, verbose)\u001b[0m\n\u001b[0;32m   1361\u001b[0m         \u001b[0mprediction\u001b[0m \u001b[1;33m:\u001b[0m \u001b[0mnumpy\u001b[0m\u001b[1;33m.\u001b[0m\u001b[0marray\u001b[0m\u001b[1;33m\u001b[0m\u001b[0m\n\u001b[0;32m   1362\u001b[0m         \"\"\"\n\u001b[1;32m-> 1363\u001b[1;33m         \u001b[1;32mreturn\u001b[0m \u001b[0mself\u001b[0m\u001b[1;33m.\u001b[0m\u001b[0m_predict\u001b[0m\u001b[1;33m(\u001b[0m\u001b[0mdata\u001b[0m\u001b[1;33m,\u001b[0m \u001b[0mweight\u001b[0m\u001b[1;33m,\u001b[0m \u001b[1;34m\"RawFormulaVal\"\u001b[0m\u001b[1;33m,\u001b[0m \u001b[0mntree_start\u001b[0m\u001b[1;33m,\u001b[0m \u001b[0mntree_end\u001b[0m\u001b[1;33m,\u001b[0m \u001b[0mthread_count\u001b[0m\u001b[1;33m,\u001b[0m \u001b[0mverbose\u001b[0m\u001b[1;33m)\u001b[0m\u001b[1;33m\u001b[0m\u001b[0m\n\u001b[0m\u001b[0;32m   1364\u001b[0m \u001b[1;33m\u001b[0m\u001b[0m\n\u001b[0;32m   1365\u001b[0m     \u001b[1;32mdef\u001b[0m \u001b[0mstaged_predict\u001b[0m\u001b[1;33m(\u001b[0m\u001b[0mself\u001b[0m\u001b[1;33m,\u001b[0m \u001b[0mdata\u001b[0m\u001b[1;33m,\u001b[0m \u001b[0mweight\u001b[0m\u001b[1;33m=\u001b[0m\u001b[0mNone\u001b[0m\u001b[1;33m,\u001b[0m \u001b[0mntree_start\u001b[0m\u001b[1;33m=\u001b[0m\u001b[1;36m0\u001b[0m\u001b[1;33m,\u001b[0m \u001b[0mntree_end\u001b[0m\u001b[1;33m=\u001b[0m\u001b[1;36m0\u001b[0m\u001b[1;33m,\u001b[0m \u001b[0meval_period\u001b[0m\u001b[1;33m=\u001b[0m\u001b[1;36m1\u001b[0m\u001b[1;33m,\u001b[0m \u001b[0mthread_count\u001b[0m\u001b[1;33m=\u001b[0m\u001b[1;36m1\u001b[0m\u001b[1;33m,\u001b[0m \u001b[0mverbose\u001b[0m\u001b[1;33m=\u001b[0m\u001b[0mNone\u001b[0m\u001b[1;33m)\u001b[0m\u001b[1;33m:\u001b[0m\u001b[1;33m\u001b[0m\u001b[0m\n",
      "\u001b[1;32m/PythonApp/anaconda1/lib/python2.7/site-packages/catboost/core.pyc\u001b[0m in \u001b[0;36m_predict\u001b[1;34m(self, data, weight, prediction_type, ntree_start, ntree_end, thread_count, verbose)\u001b[0m\n\u001b[0;32m    510\u001b[0m         \u001b[1;32mif\u001b[0m \u001b[0mloss_function\u001b[0m \u001b[1;32mis\u001b[0m \u001b[1;32mnot\u001b[0m \u001b[0mNone\u001b[0m \u001b[1;32mand\u001b[0m \u001b[1;33m(\u001b[0m\u001b[0mloss_function\u001b[0m \u001b[1;33m==\u001b[0m \u001b[1;34m'MultiClass'\u001b[0m \u001b[1;32mor\u001b[0m \u001b[0mloss_function\u001b[0m \u001b[1;33m==\u001b[0m \u001b[1;34m'MultiClassOneVsAll'\u001b[0m\u001b[1;33m)\u001b[0m\u001b[1;33m:\u001b[0m\u001b[1;33m\u001b[0m\u001b[0m\n\u001b[0;32m    511\u001b[0m             \u001b[1;32mreturn\u001b[0m \u001b[0mnp\u001b[0m\u001b[1;33m.\u001b[0m\u001b[0mtranspose\u001b[0m\u001b[1;33m(\u001b[0m\u001b[0mself\u001b[0m\u001b[1;33m.\u001b[0m\u001b[0m_base_predict_multi\u001b[0m\u001b[1;33m(\u001b[0m\u001b[0mdata\u001b[0m\u001b[1;33m,\u001b[0m \u001b[0mprediction_type\u001b[0m\u001b[1;33m,\u001b[0m \u001b[0mntree_start\u001b[0m\u001b[1;33m,\u001b[0m \u001b[0mntree_end\u001b[0m\u001b[1;33m,\u001b[0m \u001b[0mthread_count\u001b[0m\u001b[1;33m,\u001b[0m \u001b[0mverbose\u001b[0m\u001b[1;33m)\u001b[0m\u001b[1;33m)\u001b[0m\u001b[1;33m\u001b[0m\u001b[0m\n\u001b[1;32m--> 512\u001b[1;33m         \u001b[0mpredictions\u001b[0m \u001b[1;33m=\u001b[0m \u001b[0mnp\u001b[0m\u001b[1;33m.\u001b[0m\u001b[0marray\u001b[0m\u001b[1;33m(\u001b[0m\u001b[0mself\u001b[0m\u001b[1;33m.\u001b[0m\u001b[0m_base_predict\u001b[0m\u001b[1;33m(\u001b[0m\u001b[0mdata\u001b[0m\u001b[1;33m,\u001b[0m \u001b[0mprediction_type\u001b[0m\u001b[1;33m,\u001b[0m \u001b[0mntree_start\u001b[0m\u001b[1;33m,\u001b[0m \u001b[0mntree_end\u001b[0m\u001b[1;33m,\u001b[0m \u001b[0mthread_count\u001b[0m\u001b[1;33m,\u001b[0m \u001b[0mverbose\u001b[0m\u001b[1;33m)\u001b[0m\u001b[1;33m)\u001b[0m\u001b[1;33m\u001b[0m\u001b[0m\n\u001b[0m\u001b[0;32m    513\u001b[0m         \u001b[1;32mif\u001b[0m \u001b[0mprediction_type\u001b[0m \u001b[1;33m==\u001b[0m \u001b[1;34m'Probability'\u001b[0m\u001b[1;33m:\u001b[0m\u001b[1;33m\u001b[0m\u001b[0m\n\u001b[0;32m    514\u001b[0m             \u001b[0mpredictions\u001b[0m \u001b[1;33m=\u001b[0m \u001b[0mnp\u001b[0m\u001b[1;33m.\u001b[0m\u001b[0mtranspose\u001b[0m\u001b[1;33m(\u001b[0m\u001b[1;33m[\u001b[0m\u001b[1;36m1\u001b[0m \u001b[1;33m-\u001b[0m \u001b[0mpredictions\u001b[0m\u001b[1;33m,\u001b[0m \u001b[0mpredictions\u001b[0m\u001b[1;33m]\u001b[0m\u001b[1;33m)\u001b[0m\u001b[1;33m\u001b[0m\u001b[0m\n",
      "\u001b[1;31mKeyboardInterrupt\u001b[0m: "
     ]
    }
   ],
   "source": [
    "# Predict different values for each month.\n",
    "\"\"\"for label, test_date in test_dates.items():\n",
    "    y_pred = 0\n",
    "    print(\"Predicting for: %s ... \" % (label))\n",
    "    \n",
    "    test_df['transactiondate'] = test_date\n",
    "    test_df = add_date_features(test_df)\n",
    "    X_test = test_df[train_features]\n",
    "    for model in models:\n",
    "        \n",
    "        y_pred += model.predict(X_test)\n",
    "    y_pred /= num_ensembles\n",
    "    #_preds[test_date] = y_pred\n",
    "    submission[label] = y_pred\"\"\"\n",
    "    "
   ]
  },
  {
   "cell_type": "code",
   "execution_count": null,
   "metadata": {
    "_cell_guid": "13bb73a1-7667-4377-bc2a-279dd39cc46e",
    "_uuid": "11471d4e27e0e91caa92625d377d9530b207de00",
    "collapsed": true
   },
   "outputs": [],
   "source": [
    "\"\"\"num_ensembles = 1\n",
    "#y_pred2 = 0.0\n",
    "for i in tqdm(range(6,10)):\n",
    "    model = CatBoostRegressor(\n",
    "        iterations=2000, learning_rate=0.01,\n",
    "        depth=6, l2_leaf_reg=3,\n",
    "        loss_function='MAE',\n",
    "        eval_metric='MAE',\n",
    "        random_seed=i)\n",
    "    model.fit(\n",
    "        X_train, y_train,\n",
    "        cat_features=cat_feature_inds)\n",
    "    print(mean_absolute_error(model.predict(X_train),y_train))\n",
    "    y_pred2 += model.predict(X_test)\"\"\"\n"
   ]
  },
  {
   "cell_type": "code",
   "execution_count": null,
   "metadata": {
    "_cell_guid": "63fa409c-62cb-46b0-b25f-d7e1810c9a54",
    "_uuid": "0d6bf095f35b8ddf74b69e00fb9d0f25fb68cefe",
    "collapsed": true
   },
   "outputs": [],
   "source": [
    "\"\"\"y_pred2 = y_pred2/5\n",
    "y_pred3 = (y_pred + y_pred2)/2\"\"\""
   ]
  },
  {
   "cell_type": "code",
   "execution_count": 16,
   "metadata": {
    "_cell_guid": "d592f330-be95-48ad-ae86-ce6c36735326",
    "_uuid": "b5b7f5ee4471fe31e787f3c03e37af9ede5741a6",
    "collapsed": true
   },
   "outputs": [],
   "source": [
    "def get_xgb_imp1(model,feature_names,keep_all = True):\n",
    "    a = pd.DataFrame(model.feature_importances_)\n",
    "    \n",
    "    a.columns = ['feature']\n",
    "    #a.feature = a.feature.map(feature_rename)\n",
    "    #a.feature = a.feature.map(lambda x:feature_names[int(x)])\n",
    "    #a  = a.set_index(a.feature,drop = True)\n",
    "    #a = a.drop('feature',1)\n",
    "    b = pd.Series(feature_names)\n",
    "    #b.index = feature_names\n",
    "    #if keep_all ==True:\n",
    "    #    c = a.importance+b\n",
    "    #else:\n",
    "    #    c = a.importance\n",
    "    c = pd.concat([b,a],1)\n",
    "    c.columns = ['feature','importance']\n",
    "    c = c.set_index(c['feature'],drop=True)\n",
    "    c = c.sort_values(ascending=False,by = 'importance')\n",
    "    return c"
   ]
  },
  {
   "cell_type": "code",
   "execution_count": 17,
   "metadata": {
    "_cell_guid": "076ee22a-75ef-4f7a-8346-b2dd4e0f6e5d",
    "_uuid": "b6bc40339a2c2cf8338b19d9541a9a91a51363ab",
    "collapsed": true
   },
   "outputs": [
    {
     "data": {
      "text/html": [
       "<div>\n",
       "<style>\n",
       "    .dataframe thead tr:only-child th {\n",
       "        text-align: right;\n",
       "    }\n",
       "\n",
       "    .dataframe thead th {\n",
       "        text-align: left;\n",
       "    }\n",
       "\n",
       "    .dataframe tbody tr th {\n",
       "        vertical-align: top;\n",
       "    }\n",
       "</style>\n",
       "<table border=\"1\" class=\"dataframe\">\n",
       "  <thead>\n",
       "    <tr style=\"text-align: right;\">\n",
       "      <th></th>\n",
       "      <th>feature</th>\n",
       "      <th>importance</th>\n",
       "    </tr>\n",
       "    <tr>\n",
       "      <th>feature</th>\n",
       "      <th></th>\n",
       "      <th></th>\n",
       "    </tr>\n",
       "  </thead>\n",
       "  <tbody>\n",
       "    <tr>\n",
       "      <th>regionidzip</th>\n",
       "      <td>regionidzip</td>\n",
       "      <td>6.086402</td>\n",
       "    </tr>\n",
       "    <tr>\n",
       "      <th>finishedsquarefeet12</th>\n",
       "      <td>finishedsquarefeet12</td>\n",
       "      <td>5.749457</td>\n",
       "    </tr>\n",
       "    <tr>\n",
       "      <th>N-ValueRatio</th>\n",
       "      <td>N-ValueRatio</td>\n",
       "      <td>5.365399</td>\n",
       "    </tr>\n",
       "    <tr>\n",
       "      <th>transaction_month</th>\n",
       "      <td>transaction_month</td>\n",
       "      <td>5.324121</td>\n",
       "    </tr>\n",
       "    <tr>\n",
       "      <th>taxamount</th>\n",
       "      <td>taxamount</td>\n",
       "      <td>4.610084</td>\n",
       "    </tr>\n",
       "    <tr>\n",
       "      <th>yearbuilt</th>\n",
       "      <td>yearbuilt</td>\n",
       "      <td>4.145900</td>\n",
       "    </tr>\n",
       "    <tr>\n",
       "      <th>propertycountylandusecode</th>\n",
       "      <td>propertycountylandusecode</td>\n",
       "      <td>3.859135</td>\n",
       "    </tr>\n",
       "    <tr>\n",
       "      <th>calculatedfinishedsquarefeet</th>\n",
       "      <td>calculatedfinishedsquarefeet</td>\n",
       "      <td>3.339620</td>\n",
       "    </tr>\n",
       "    <tr>\n",
       "      <th>N-AvRoomSize</th>\n",
       "      <td>N-AvRoomSize</td>\n",
       "      <td>3.176372</td>\n",
       "    </tr>\n",
       "    <tr>\n",
       "      <th>N-ValueProp</th>\n",
       "      <td>N-ValueProp</td>\n",
       "      <td>3.112880</td>\n",
       "    </tr>\n",
       "    <tr>\n",
       "      <th>N-location</th>\n",
       "      <td>N-location</td>\n",
       "      <td>3.017750</td>\n",
       "    </tr>\n",
       "    <tr>\n",
       "      <th>regionidcity</th>\n",
       "      <td>regionidcity</td>\n",
       "      <td>2.993962</td>\n",
       "    </tr>\n",
       "    <tr>\n",
       "      <th>structuretaxvaluedollarcnt</th>\n",
       "      <td>structuretaxvaluedollarcnt</td>\n",
       "      <td>2.952464</td>\n",
       "    </tr>\n",
       "    <tr>\n",
       "      <th>regionidneighborhood</th>\n",
       "      <td>regionidneighborhood</td>\n",
       "      <td>2.759570</td>\n",
       "    </tr>\n",
       "    <tr>\n",
       "      <th>propertylandusetypeid</th>\n",
       "      <td>propertylandusetypeid</td>\n",
       "      <td>2.758000</td>\n",
       "    </tr>\n",
       "    <tr>\n",
       "      <th>lotsizesquarefeet</th>\n",
       "      <td>lotsizesquarefeet</td>\n",
       "      <td>2.453828</td>\n",
       "    </tr>\n",
       "    <tr>\n",
       "      <th>latitude</th>\n",
       "      <td>latitude</td>\n",
       "      <td>2.415328</td>\n",
       "    </tr>\n",
       "    <tr>\n",
       "      <th>N-location-2</th>\n",
       "      <td>N-location-2</td>\n",
       "      <td>2.164876</td>\n",
       "    </tr>\n",
       "    <tr>\n",
       "      <th>N-LivingAreaProp</th>\n",
       "      <td>N-LivingAreaProp</td>\n",
       "      <td>2.163540</td>\n",
       "    </tr>\n",
       "    <tr>\n",
       "      <th>N-ExtraSpace</th>\n",
       "      <td>N-ExtraSpace</td>\n",
       "      <td>2.054933</td>\n",
       "    </tr>\n",
       "    <tr>\n",
       "      <th>buildingqualitytypeid</th>\n",
       "      <td>buildingqualitytypeid</td>\n",
       "      <td>1.996293</td>\n",
       "    </tr>\n",
       "    <tr>\n",
       "      <th>rawcensustractandblock</th>\n",
       "      <td>rawcensustractandblock</td>\n",
       "      <td>1.950403</td>\n",
       "    </tr>\n",
       "    <tr>\n",
       "      <th>heatingorsystemtypeid</th>\n",
       "      <td>heatingorsystemtypeid</td>\n",
       "      <td>1.948905</td>\n",
       "    </tr>\n",
       "    <tr>\n",
       "      <th>longitude</th>\n",
       "      <td>longitude</td>\n",
       "      <td>1.890187</td>\n",
       "    </tr>\n",
       "    <tr>\n",
       "      <th>transaction_quarter</th>\n",
       "      <td>transaction_quarter</td>\n",
       "      <td>1.864468</td>\n",
       "    </tr>\n",
       "    <tr>\n",
       "      <th>N-TaxScore</th>\n",
       "      <td>N-TaxScore</td>\n",
       "      <td>1.749174</td>\n",
       "    </tr>\n",
       "    <tr>\n",
       "      <th>landtaxvaluedollarcnt</th>\n",
       "      <td>landtaxvaluedollarcnt</td>\n",
       "      <td>1.724961</td>\n",
       "    </tr>\n",
       "    <tr>\n",
       "      <th>censustractandblock</th>\n",
       "      <td>censustractandblock</td>\n",
       "      <td>1.619819</td>\n",
       "    </tr>\n",
       "    <tr>\n",
       "      <th>taxvaluedollarcnt</th>\n",
       "      <td>taxvaluedollarcnt</td>\n",
       "      <td>1.320219</td>\n",
       "    </tr>\n",
       "    <tr>\n",
       "      <th>assessmentyear</th>\n",
       "      <td>assessmentyear</td>\n",
       "      <td>1.278603</td>\n",
       "    </tr>\n",
       "    <tr>\n",
       "      <th>N-PropType</th>\n",
       "      <td>N-PropType</td>\n",
       "      <td>1.142003</td>\n",
       "    </tr>\n",
       "    <tr>\n",
       "      <th>airconditioningtypeid</th>\n",
       "      <td>airconditioningtypeid</td>\n",
       "      <td>1.033239</td>\n",
       "    </tr>\n",
       "    <tr>\n",
       "      <th>bedroomcnt</th>\n",
       "      <td>bedroomcnt</td>\n",
       "      <td>0.997596</td>\n",
       "    </tr>\n",
       "    <tr>\n",
       "      <th>taxdelinquencyyear</th>\n",
       "      <td>taxdelinquencyyear</td>\n",
       "      <td>0.982019</td>\n",
       "    </tr>\n",
       "    <tr>\n",
       "      <th>fullbathcnt</th>\n",
       "      <td>fullbathcnt</td>\n",
       "      <td>0.931993</td>\n",
       "    </tr>\n",
       "    <tr>\n",
       "      <th>bathroomcnt</th>\n",
       "      <td>bathroomcnt</td>\n",
       "      <td>0.806171</td>\n",
       "    </tr>\n",
       "    <tr>\n",
       "      <th>garagetotalsqft</th>\n",
       "      <td>garagetotalsqft</td>\n",
       "      <td>0.803496</td>\n",
       "    </tr>\n",
       "    <tr>\n",
       "      <th>regionidcounty</th>\n",
       "      <td>regionidcounty</td>\n",
       "      <td>0.796065</td>\n",
       "    </tr>\n",
       "    <tr>\n",
       "      <th>fips</th>\n",
       "      <td>fips</td>\n",
       "      <td>0.770911</td>\n",
       "    </tr>\n",
       "    <tr>\n",
       "      <th>transaction_year</th>\n",
       "      <td>transaction_year</td>\n",
       "      <td>0.724472</td>\n",
       "    </tr>\n",
       "    <tr>\n",
       "      <th>roomcnt</th>\n",
       "      <td>roomcnt</td>\n",
       "      <td>0.562767</td>\n",
       "    </tr>\n",
       "    <tr>\n",
       "      <th>calculatedbathnbr</th>\n",
       "      <td>calculatedbathnbr</td>\n",
       "      <td>0.541307</td>\n",
       "    </tr>\n",
       "    <tr>\n",
       "      <th>finishedsquarefeet15</th>\n",
       "      <td>finishedsquarefeet15</td>\n",
       "      <td>0.513969</td>\n",
       "    </tr>\n",
       "    <tr>\n",
       "      <th>yardbuildingsqft17</th>\n",
       "      <td>yardbuildingsqft17</td>\n",
       "      <td>0.293049</td>\n",
       "    </tr>\n",
       "    <tr>\n",
       "      <th>unitcnt</th>\n",
       "      <td>unitcnt</td>\n",
       "      <td>0.291077</td>\n",
       "    </tr>\n",
       "    <tr>\n",
       "      <th>fireplacecnt</th>\n",
       "      <td>fireplacecnt</td>\n",
       "      <td>0.237470</td>\n",
       "    </tr>\n",
       "    <tr>\n",
       "      <th>garagecarcnt</th>\n",
       "      <td>garagecarcnt</td>\n",
       "      <td>0.214824</td>\n",
       "    </tr>\n",
       "    <tr>\n",
       "      <th>finishedfloor1squarefeet</th>\n",
       "      <td>finishedfloor1squarefeet</td>\n",
       "      <td>0.196546</td>\n",
       "    </tr>\n",
       "    <tr>\n",
       "      <th>numberofstories</th>\n",
       "      <td>numberofstories</td>\n",
       "      <td>0.194353</td>\n",
       "    </tr>\n",
       "    <tr>\n",
       "      <th>finishedsquarefeet50</th>\n",
       "      <td>finishedsquarefeet50</td>\n",
       "      <td>0.117234</td>\n",
       "    </tr>\n",
       "    <tr>\n",
       "      <th>threequarterbathnbr</th>\n",
       "      <td>threequarterbathnbr</td>\n",
       "      <td>0.002783</td>\n",
       "    </tr>\n",
       "  </tbody>\n",
       "</table>\n",
       "</div>"
      ],
      "text/plain": [
       "                                                   feature  importance\n",
       "feature                                                               \n",
       "regionidzip                                    regionidzip    6.086402\n",
       "finishedsquarefeet12                  finishedsquarefeet12    5.749457\n",
       "N-ValueRatio                                  N-ValueRatio    5.365399\n",
       "transaction_month                        transaction_month    5.324121\n",
       "taxamount                                        taxamount    4.610084\n",
       "yearbuilt                                        yearbuilt    4.145900\n",
       "propertycountylandusecode        propertycountylandusecode    3.859135\n",
       "calculatedfinishedsquarefeet  calculatedfinishedsquarefeet    3.339620\n",
       "N-AvRoomSize                                  N-AvRoomSize    3.176372\n",
       "N-ValueProp                                    N-ValueProp    3.112880\n",
       "N-location                                      N-location    3.017750\n",
       "regionidcity                                  regionidcity    2.993962\n",
       "structuretaxvaluedollarcnt      structuretaxvaluedollarcnt    2.952464\n",
       "regionidneighborhood                  regionidneighborhood    2.759570\n",
       "propertylandusetypeid                propertylandusetypeid    2.758000\n",
       "lotsizesquarefeet                        lotsizesquarefeet    2.453828\n",
       "latitude                                          latitude    2.415328\n",
       "N-location-2                                  N-location-2    2.164876\n",
       "N-LivingAreaProp                          N-LivingAreaProp    2.163540\n",
       "N-ExtraSpace                                  N-ExtraSpace    2.054933\n",
       "buildingqualitytypeid                buildingqualitytypeid    1.996293\n",
       "rawcensustractandblock              rawcensustractandblock    1.950403\n",
       "heatingorsystemtypeid                heatingorsystemtypeid    1.948905\n",
       "longitude                                        longitude    1.890187\n",
       "transaction_quarter                    transaction_quarter    1.864468\n",
       "N-TaxScore                                      N-TaxScore    1.749174\n",
       "landtaxvaluedollarcnt                landtaxvaluedollarcnt    1.724961\n",
       "censustractandblock                    censustractandblock    1.619819\n",
       "taxvaluedollarcnt                        taxvaluedollarcnt    1.320219\n",
       "assessmentyear                              assessmentyear    1.278603\n",
       "N-PropType                                      N-PropType    1.142003\n",
       "airconditioningtypeid                airconditioningtypeid    1.033239\n",
       "bedroomcnt                                      bedroomcnt    0.997596\n",
       "taxdelinquencyyear                      taxdelinquencyyear    0.982019\n",
       "fullbathcnt                                    fullbathcnt    0.931993\n",
       "bathroomcnt                                    bathroomcnt    0.806171\n",
       "garagetotalsqft                            garagetotalsqft    0.803496\n",
       "regionidcounty                              regionidcounty    0.796065\n",
       "fips                                                  fips    0.770911\n",
       "transaction_year                          transaction_year    0.724472\n",
       "roomcnt                                            roomcnt    0.562767\n",
       "calculatedbathnbr                        calculatedbathnbr    0.541307\n",
       "finishedsquarefeet15                  finishedsquarefeet15    0.513969\n",
       "yardbuildingsqft17                      yardbuildingsqft17    0.293049\n",
       "unitcnt                                            unitcnt    0.291077\n",
       "fireplacecnt                                  fireplacecnt    0.237470\n",
       "garagecarcnt                                  garagecarcnt    0.214824\n",
       "finishedfloor1squarefeet          finishedfloor1squarefeet    0.196546\n",
       "numberofstories                            numberofstories    0.194353\n",
       "finishedsquarefeet50                  finishedsquarefeet50    0.117234\n",
       "threequarterbathnbr                    threequarterbathnbr    0.002783"
      ]
     },
     "execution_count": 17,
     "metadata": {},
     "output_type": "execute_result"
    }
   ],
   "source": [
    "get_xgb_imp1(models[0],X_train.columns.values)"
   ]
  },
  {
   "cell_type": "code",
   "execution_count": null,
   "metadata": {
    "_cell_guid": "b466b502-1694-4f56-ba25-dff99c25ddb3",
    "_uuid": "3cee197e50bc3b3444fd812a2a4fe40aee56867c",
    "collapsed": true
   },
   "outputs": [],
   "source": [
    "get_xgb_imp1(models[0],X_train.columns.values)"
   ]
  },
  {
   "cell_type": "code",
   "execution_count": 20,
   "metadata": {
    "_cell_guid": "5413df0c-c525-4ccd-b3b6-af14a62aed70",
    "_uuid": "4719927a0d15931d125a38b146ad3a947ce44c48",
    "collapsed": true
   },
   "outputs": [],
   "source": [
    "\n",
    "submission.to_csv('Only_CatBoost8_2.csv', float_format='%.6f',index=False)"
   ]
  },
  {
   "cell_type": "code",
   "execution_count": 23,
   "metadata": {
    "collapsed": true
   },
   "outputs": [],
   "source": [
    "a = pd.read_csv('Only_CatBoost8_2.csv')\n",
    "b = pd.read_csv('Only_CatBoost7.csv')\n",
    "c = pd.read_csv('Only_CatBoost6_20.csv')\n",
    "d = pd.read_csv('Only_CatBoost5.csv')"
   ]
  },
  {
   "cell_type": "code",
   "execution_count": 24,
   "metadata": {
    "collapsed": true
   },
   "outputs": [
    {
     "data": {
      "text/html": [
       "<div>\n",
       "<style>\n",
       "    .dataframe thead tr:only-child th {\n",
       "        text-align: right;\n",
       "    }\n",
       "\n",
       "    .dataframe thead th {\n",
       "        text-align: left;\n",
       "    }\n",
       "\n",
       "    .dataframe tbody tr th {\n",
       "        vertical-align: top;\n",
       "    }\n",
       "</style>\n",
       "<table border=\"1\" class=\"dataframe\">\n",
       "  <thead>\n",
       "    <tr style=\"text-align: right;\">\n",
       "      <th></th>\n",
       "      <th>ParcelId</th>\n",
       "      <th>201612</th>\n",
       "      <th>201610</th>\n",
       "      <th>201611</th>\n",
       "      <th>201712</th>\n",
       "      <th>201711</th>\n",
       "      <th>201710</th>\n",
       "    </tr>\n",
       "  </thead>\n",
       "  <tbody>\n",
       "    <tr>\n",
       "      <th>0</th>\n",
       "      <td>10754147.0</td>\n",
       "      <td>0.023342</td>\n",
       "      <td>0.023342</td>\n",
       "      <td>0.023342</td>\n",
       "      <td>0.023342</td>\n",
       "      <td>0.023342</td>\n",
       "      <td>0.023342</td>\n",
       "    </tr>\n",
       "    <tr>\n",
       "      <th>1</th>\n",
       "      <td>10759547.0</td>\n",
       "      <td>0.019459</td>\n",
       "      <td>0.019459</td>\n",
       "      <td>0.019459</td>\n",
       "      <td>0.019459</td>\n",
       "      <td>0.019459</td>\n",
       "      <td>0.019459</td>\n",
       "    </tr>\n",
       "    <tr>\n",
       "      <th>2</th>\n",
       "      <td>10843547.0</td>\n",
       "      <td>0.025000</td>\n",
       "      <td>0.025000</td>\n",
       "      <td>0.025000</td>\n",
       "      <td>0.025000</td>\n",
       "      <td>0.025000</td>\n",
       "      <td>0.025000</td>\n",
       "    </tr>\n",
       "    <tr>\n",
       "      <th>3</th>\n",
       "      <td>10859147.0</td>\n",
       "      <td>0.035622</td>\n",
       "      <td>0.035622</td>\n",
       "      <td>0.035622</td>\n",
       "      <td>0.035622</td>\n",
       "      <td>0.035622</td>\n",
       "      <td>0.035622</td>\n",
       "    </tr>\n",
       "    <tr>\n",
       "      <th>4</th>\n",
       "      <td>10879947.0</td>\n",
       "      <td>0.020465</td>\n",
       "      <td>0.020465</td>\n",
       "      <td>0.020465</td>\n",
       "      <td>0.020465</td>\n",
       "      <td>0.020465</td>\n",
       "      <td>0.020465</td>\n",
       "    </tr>\n",
       "  </tbody>\n",
       "</table>\n",
       "</div>"
      ],
      "text/plain": [
       "     ParcelId    201612    201610    201611    201712    201711    201710\n",
       "0  10754147.0  0.023342  0.023342  0.023342  0.023342  0.023342  0.023342\n",
       "1  10759547.0  0.019459  0.019459  0.019459  0.019459  0.019459  0.019459\n",
       "2  10843547.0  0.025000  0.025000  0.025000  0.025000  0.025000  0.025000\n",
       "3  10859147.0  0.035622  0.035622  0.035622  0.035622  0.035622  0.035622\n",
       "4  10879947.0  0.020465  0.020465  0.020465  0.020465  0.020465  0.020465"
      ]
     },
     "execution_count": 24,
     "metadata": {},
     "output_type": "execute_result"
    }
   ],
   "source": [
    "e = 0.4*a+0.3*b+0.2*c+0.1*a\n",
    "e.head()"
   ]
  },
  {
   "cell_type": "code",
   "execution_count": 25,
   "metadata": {
    "collapsed": true
   },
   "outputs": [],
   "source": [
    "e.ParcelId = e.ParcelId.astype(int)"
   ]
  },
  {
   "cell_type": "code",
   "execution_count": 26,
   "metadata": {
    "collapsed": true
   },
   "outputs": [],
   "source": [
    "e.to_csv('Only_CatBoost5678.csv', float_format='%.6f',index=False)"
   ]
  },
  {
   "cell_type": "code",
   "execution_count": null,
   "metadata": {
    "collapsed": true
   },
   "outputs": [],
   "source": []
  }
 ],
 "metadata": {
  "anaconda-cloud": {},
  "kernelspec": {
   "display_name": "Python 2",
   "language": "python",
   "name": "python2"
  },
  "language_info": {
   "codemirror_mode": {
    "name": "ipython",
    "version": 2
   },
   "file_extension": ".py",
   "mimetype": "text/x-python",
   "name": "python",
   "nbconvert_exporter": "python",
   "pygments_lexer": "ipython2",
   "version": "2.7.11"
  }
 },
 "nbformat": 4,
 "nbformat_minor": 1
}
